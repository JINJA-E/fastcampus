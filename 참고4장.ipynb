{
  "nbformat": 4,
  "nbformat_minor": 0,
  "metadata": {
    "colab": {
      "name": "참고.ipynb",
      "provenance": [],
      "collapsed_sections": [],
      "authorship_tag": "ABX9TyPUJlQYoHznO2sHLSw1aXkR",
      "include_colab_link": true
    },
    "kernelspec": {
      "name": "python3",
      "display_name": "Python 3"
    },
    "language_info": {
      "name": "python"
    }
  },
  "cells": [
    {
      "cell_type": "markdown",
      "metadata": {
        "id": "view-in-github",
        "colab_type": "text"
      },
      "source": [
        "<a href=\"https://colab.research.google.com/github/JINJA-E/fastcampus/blob/main/%EC%B0%B8%EA%B3%A04%EC%9E%A5.ipynb\" target=\"_parent\"><img src=\"https://colab.research.google.com/assets/colab-badge.svg\" alt=\"Open In Colab\"/></a>"
      ]
    },
    {
      "cell_type": "code",
      "execution_count": 7,
      "metadata": {
        "colab": {
          "base_uri": "https://localhost:8080/"
        },
        "id": "jQ99vQlfeYFM",
        "outputId": "f01c3560-ef45-4669-a6c9-999a8e77eebe"
      },
      "outputs": [
        {
          "output_type": "stream",
          "name": "stdout",
          "text": [
            "train_data :  (25000,)\n",
            "train_labels :  (25000,)\n",
            "test_data : (25000,)\n",
            "test_labels : (25000,)\n",
            "Epoch 1/20\n",
            "30/30 [==============================] - 3s 55ms/step - loss: 0.5182 - accuracy: 0.8012 - val_loss: 0.3991 - val_accuracy: 0.8665\n",
            "Epoch 2/20\n",
            "30/30 [==============================] - 1s 42ms/step - loss: 0.3142 - accuracy: 0.9031 - val_loss: 0.3194 - val_accuracy: 0.8786\n",
            "Epoch 3/20\n",
            "30/30 [==============================] - 1s 42ms/step - loss: 0.2307 - accuracy: 0.9268 - val_loss: 0.3130 - val_accuracy: 0.8722\n",
            "Epoch 4/20\n",
            "30/30 [==============================] - 1s 42ms/step - loss: 0.1814 - accuracy: 0.9429 - val_loss: 0.2728 - val_accuracy: 0.8907\n",
            "Epoch 5/20\n",
            "30/30 [==============================] - 2s 53ms/step - loss: 0.1495 - accuracy: 0.9520 - val_loss: 0.2786 - val_accuracy: 0.8870\n",
            "Epoch 6/20\n",
            "30/30 [==============================] - 2s 52ms/step - loss: 0.1206 - accuracy: 0.9632 - val_loss: 0.3066 - val_accuracy: 0.8791\n",
            "Epoch 7/20\n",
            "30/30 [==============================] - 2s 53ms/step - loss: 0.1005 - accuracy: 0.9699 - val_loss: 0.3040 - val_accuracy: 0.8858\n",
            "Epoch 8/20\n",
            "30/30 [==============================] - 2s 57ms/step - loss: 0.0818 - accuracy: 0.9769 - val_loss: 0.3239 - val_accuracy: 0.8833\n",
            "Epoch 9/20\n",
            "30/30 [==============================] - 1s 44ms/step - loss: 0.0687 - accuracy: 0.9811 - val_loss: 0.3445 - val_accuracy: 0.8813\n",
            "Epoch 10/20\n",
            "30/30 [==============================] - 1s 48ms/step - loss: 0.0567 - accuracy: 0.9857 - val_loss: 0.3675 - val_accuracy: 0.8800\n",
            "Epoch 11/20\n",
            "30/30 [==============================] - 1s 42ms/step - loss: 0.0439 - accuracy: 0.9892 - val_loss: 0.3974 - val_accuracy: 0.8776\n",
            "Epoch 12/20\n",
            "30/30 [==============================] - 1s 42ms/step - loss: 0.0352 - accuracy: 0.9923 - val_loss: 0.4200 - val_accuracy: 0.8759\n",
            "Epoch 13/20\n",
            "30/30 [==============================] - 2s 51ms/step - loss: 0.0285 - accuracy: 0.9941 - val_loss: 0.4558 - val_accuracy: 0.8751\n",
            "Epoch 14/20\n",
            "30/30 [==============================] - 2s 54ms/step - loss: 0.0213 - accuracy: 0.9965 - val_loss: 0.4837 - val_accuracy: 0.8696\n",
            "Epoch 15/20\n",
            "30/30 [==============================] - 1s 49ms/step - loss: 0.0166 - accuracy: 0.9979 - val_loss: 0.5253 - val_accuracy: 0.8712\n",
            "Epoch 16/20\n",
            "30/30 [==============================] - 1s 43ms/step - loss: 0.0137 - accuracy: 0.9984 - val_loss: 0.5554 - val_accuracy: 0.8703\n",
            "Epoch 17/20\n",
            "30/30 [==============================] - 1s 45ms/step - loss: 0.0077 - accuracy: 0.9997 - val_loss: 0.5887 - val_accuracy: 0.8692\n",
            "Epoch 18/20\n",
            "30/30 [==============================] - 1s 45ms/step - loss: 0.0091 - accuracy: 0.9985 - val_loss: 0.6204 - val_accuracy: 0.8666\n",
            "Epoch 19/20\n",
            "30/30 [==============================] - 1s 43ms/step - loss: 0.0069 - accuracy: 0.9993 - val_loss: 0.6507 - val_accuracy: 0.8671\n",
            "Epoch 20/20\n",
            "30/30 [==============================] - 1s 42ms/step - loss: 0.0033 - accuracy: 0.9999 - val_loss: 0.6819 - val_accuracy: 0.8676\n"
          ]
        }
      ],
      "source": [
        "#데이터불러오기\n",
        "from tensorflow.keras.datasets import imdb\n",
        "import numpy as np\n",
        "from keras import models\n",
        "from keras import layers\n",
        "\n",
        "(train_data, train_labels), (test_data,test_labels) = imdb.load_data(num_words=10000)\n",
        "print('train_data : ',train_data.shape)\n",
        "print('train_labels : ',train_labels.shape)\n",
        "print('test_data :',test_data.shape)\n",
        "print('test_labels :',test_labels.shape)\n",
        "\n",
        "#데이터준비\n",
        "def vectorize_sequences(sequences,dimension=10000):\n",
        "  results = np.zeros((len(sequences),dimension))\n",
        "  for i, sequence in enumerate(sequences):\n",
        "    results[i,sequence] = 1.\n",
        "  return results\n",
        "\n",
        "x_train = vectorize_sequences(train_data)\n",
        "x_test = vectorize_sequences(test_data)\n",
        "\n",
        "y_train = np.asarray(train_labels).astype('float32')\n",
        "y_test = np.asarray(test_labels).astype('float32')\n",
        "\n",
        "#모델 준비\n",
        "model = models.Sequential()\n",
        "model.add(layers.Dense(16,activation='relu',input_shape=(10000,)))\n",
        "model.add(layers.Dense(16,activation='relu'))\n",
        "model.add(layers.Dense(1,activation='sigmoid'))\n",
        "\n",
        "#컴파일\n",
        "model.compile(optimizer='rmsprop',loss='binary_crossentropy',metrics=['accuracy'])\n",
        "\n",
        "#검증세트준비\n",
        "x_val = x_train[:10000]\n",
        "partial_x_train = x_train[10000:]\n",
        "y_val = y_train[:10000]\n",
        "partial_y_train = y_train[10000:]\n",
        "\n",
        "#훈련\n",
        "history = model.fit(partial_x_train,partial_y_train,epochs=20,batch_size=512,validation_data = (x_val,y_val))"
      ]
    },
    {
      "cell_type": "code",
      "source": [
        "import matplotlib.pyplot as plt\n",
        "\n",
        "#그래프그리기\n",
        "history_dict = history.history\n",
        "\n",
        "acc = history_dict['accuracy']\n",
        "val_acc = history_dict['val_accuracy']\n",
        "loss = history_dict['loss']\n",
        "val_loss = history_dict['val_loss']\n",
        "\n",
        "epochs = range(1,len(loss)+1)  #1부터 20까지\n",
        "\n",
        "f, ax = plt.subplots(1,2,figsize=(14,8))\n",
        "ax[0].plot(epochs,acc,'bo',label = 'training accuracy')\n",
        "ax[0].plot(epochs,val_acc,'b',label = 'validation accuracy')\n",
        "ax[0].set_title('accuracy')\n",
        "ax[0].set_xlabel('Epochs')\n",
        "ax[0].set_ylabel('accuracy')\n",
        "ax[0].legend()\n",
        "\n",
        "ax[1].plot(epochs,loss,'ro',label = 'training loss')\n",
        "ax[1].plot(epochs,val_loss,'r',label = 'validation loss')\n",
        "ax[1].set_title('Loss')\n",
        "ax[1].set_xlabel('Epochs')\n",
        "ax[1].set_ylabel('loss')\n",
        "ax[1].legend()"
      ],
      "metadata": {
        "colab": {
          "base_uri": "https://localhost:8080/",
          "height": 531
        },
        "id": "VVfvpnC1etQ5",
        "outputId": "8b94e7fc-6343-4b58-c6e0-76476f34644e"
      },
      "execution_count": 13,
      "outputs": [
        {
          "output_type": "execute_result",
          "data": {
            "text/plain": [
              "<matplotlib.legend.Legend at 0x7f203918e9d0>"
            ]
          },
          "metadata": {},
          "execution_count": 13
        },
        {
          "output_type": "display_data",
          "data": {
            "text/plain": [
              "<Figure size 1008x576 with 2 Axes>"
            ],
            "image/png": "[encoded data removed]"
          },
          "metadata": {
            "needs_background": "light"
          }
        }
      ]
    },
    {
      "cell_type": "code",
      "source": [
        "import tensorflow as tf\n",
        "\n",
        "#모델다시그리기\n",
        "\n",
        "model = models.Sequential()\n",
        "model.add(layers.Dense(16,activation='relu',input_shape=(10000,)))\n",
        "model.add(layers.Dense(16,activation='relu'))\n",
        "model.add(layers.Dense(1,activation='sigmoid'))\n",
        "\n",
        "model.compile(optimizer='rmsprop',loss='binary_crossentropy',metrics=['accuracy'])\n",
        "\n",
        "model.fit(partial_x_train,partial_y_train,epochs=4,batch_size=512,validation_data=(x_val,y_val))"
      ],
      "metadata": {
        "colab": {
          "base_uri": "https://localhost:8080/"
        },
        "id": "ZrPzt1QQkPzW",
        "outputId": "04704dd6-0680-4fb6-d856-7df3925e47cf"
      },
      "execution_count": 14,
      "outputs": [
        {
          "output_type": "stream",
          "name": "stdout",
          "text": [
            "Epoch 1/4\n",
            "30/30 [==============================] - 2s 51ms/step - loss: 0.5402 - accuracy: 0.7801 - val_loss: 0.4080 - val_accuracy: 0.8663\n",
            "Epoch 2/4\n",
            "30/30 [==============================] - 1s 41ms/step - loss: 0.3247 - accuracy: 0.8979 - val_loss: 0.3124 - val_accuracy: 0.8863\n",
            "Epoch 3/4\n",
            "30/30 [==============================] - 1s 37ms/step - loss: 0.2349 - accuracy: 0.9239 - val_loss: 0.3004 - val_accuracy: 0.8793\n",
            "Epoch 4/4\n",
            "30/30 [==============================] - 1s 40ms/step - loss: 0.1865 - accuracy: 0.9399 - val_loss: 0.2749 - val_accuracy: 0.8895\n"
          ]
        },
        {
          "output_type": "execute_result",
          "data": {
            "text/plain": [
              "<keras.callbacks.History at 0x7f20259fd650>"
            ]
          },
          "metadata": {},
          "execution_count": 14
        }
      ]
    },
    {
      "cell_type": "code",
      "source": [
        "model.evaluate(x_test,y_test)"
      ],
      "metadata": {
        "colab": {
          "base_uri": "https://localhost:8080/"
        },
        "id": "WjpMKwHmn_aX",
        "outputId": "ed9699d9-5a3a-4ce8-d3ff-216c92b1ec9c"
      },
      "execution_count": 15,
      "outputs": [
        {
          "output_type": "stream",
          "name": "stdout",
          "text": [
            "782/782 [==============================] - 2s 3ms/step - loss: 0.2944 - accuracy: 0.8810\n"
          ]
        },
        {
          "output_type": "execute_result",
          "data": {
            "text/plain": [
              "[0.2943904399871826, 0.8810399770736694]"
            ]
          },
          "metadata": {},
          "execution_count": 15
        }
      ]
    },
    {
      "cell_type": "code",
      "source": [
        "model.predict(x_test)"
      ],
      "metadata": {
        "colab": {
          "base_uri": "https://localhost:8080/"
        },
        "id": "7Z4--qWBoEO5",
        "outputId": "018786e8-5506-4596-d58d-43779fd79529"
      },
      "execution_count": 16,
      "outputs": [
        {
          "output_type": "execute_result",
          "data": {
            "text/plain": [
              "array([[0.25505382],\n",
              "       [0.99933046],\n",
              "       [0.9308046 ],\n",
              "       ...,\n",
              "       [0.12849179],\n",
              "       [0.17564884],\n",
              "       [0.5587732 ]], dtype=float32)"
            ]
          },
          "metadata": {},
          "execution_count": 16
        }
      ]
    },
    {
      "cell_type": "code",
      "source": [
        ""
      ],
      "metadata": {
        "id": "I4oSR2JgoHfx"
      },
      "execution_count": null,
      "outputs": []
    }
  ]
}