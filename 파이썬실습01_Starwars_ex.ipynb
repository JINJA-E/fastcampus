{
  "nbformat": 4,
  "nbformat_minor": 0,
  "metadata": {
    "colab": {
      "name": "파이썬실습01_Starwars_ex.ipynb",
      "provenance": [],
      "collapsed_sections": [],
      "include_colab_link": true
    },
    "kernelspec": {
      "name": "python3",
      "display_name": "Python 3"
    },
    "language_info": {
      "name": "python"
    }
  },
  "cells": [
    {
      "cell_type": "markdown",
      "metadata": {
        "id": "view-in-github",
        "colab_type": "text"
      },
      "source": [
        "<a href=\"https://colab.research.google.com/github/JINJA-E/fastcampus/blob/main/%ED%8C%8C%EC%9D%B4%EC%8D%AC%EC%8B%A4%EC%8A%B501_Starwars_ex.ipynb\" target=\"_parent\"><img src=\"https://colab.research.google.com/assets/colab-badge.svg\" alt=\"Open In Colab\"/></a>"
      ]
    },
    {
      "cell_type": "markdown",
      "metadata": {
        "id": "UgFqC1Wv3aJ3"
      },
      "source": [
        "#Data 01: 스타워즈(Starwars)\n",
        "\n",
        "*   스타워즈 API([SWAP](https://swapi.dev/)) 의 데이터로 스타워즈에 등장하는 캐릭터들의 특징을 나타내고 있다.\n",
        "*   Data from: https://dplyr.tidyverse.org/reference/starwars.html\n",
        "\n"
      ]
    },
    {
      "cell_type": "markdown",
      "metadata": {
        "id": "mWnT0Kkh3vZy"
      },
      "source": [
        "##1.데이터 둘러보기"
      ]
    },
    {
      "cell_type": "code",
      "metadata": {
        "id": "EjY1zMeufqjd"
      },
      "source": [
        "#한글 폰트 설정하기\n",
        "!sudo apt-get install -y fonts-nanum\n",
        "!sudo fc-cache -fv\n",
        "!rm ~/.cache/matplotlib -rf\n",
        "#런타임 다시 시작"
      ],
      "execution_count": null,
      "outputs": []
    },
    {
      "cell_type": "code",
      "metadata": {
        "id": "Cv49O7mq3vIb"
      },
      "source": [
        "#기본 패키지 불러오기\n",
        "import math\n",
        "import numpy as np\n",
        "import pandas as pd\n",
        "import seaborn as sns #(그림그리기)\n",
        "import matplotlib.pyplot as plt\n",
        "plt.rc('font', family='NanumBarunGothic') #한글 폰트 가져오기\n",
        "\n",
        "plt.style.use('seaborn') #그래프 기본 설정\n",
        "sns.set(font_scale=1)\n",
        "\n",
        "import warnings #경고 메세지 무시하기\n",
        "warnings.simplefilter(action='ignore', category=FutureWarning)"
      ],
      "execution_count": 2,
      "outputs": []
    },
    {
      "cell_type": "code",
      "metadata": {
        "id": "xxB1aKGc3TNZ",
        "colab": {
          "base_uri": "https://localhost:8080/"
        },
        "outputId": "340dcd44-8992-44bc-f075-71f89d55ed01"
      },
      "source": [
        "#구글 드라이브 마운트하기(이미 되어있다면 건너뛴다)\n",
        "from google.colab import drive \n",
        "drive.mount('/content/drive')"
      ],
      "execution_count": 3,
      "outputs": [
        {
          "output_type": "stream",
          "name": "stdout",
          "text": [
            "Mounted at /content/drive\n"
          ]
        }
      ]
    },
    {
      "cell_type": "code",
      "metadata": {
        "id": "Lrcd7rvb30qT"
      },
      "source": [
        "#데이터 불러오기\n",
        "#구글 드라이브에 올려준 csv 데이터 파일 불러오기\n",
        "sw = pd.read_csv('/content/drive/MyDrive/Starwars.csv')"
      ],
      "execution_count": 4,
      "outputs": []
    },
    {
      "cell_type": "code",
      "metadata": {
        "id": "ny7lVJPi4ALr",
        "colab": {
          "base_uri": "https://localhost:8080/",
          "height": 206
        },
        "outputId": "92e6032b-fbbb-448b-ab65-9cacc2912e22"
      },
      "source": [
        "#불러온 데이터 일단 확인하기\n",
        "sw.head()"
      ],
      "execution_count": 5,
      "outputs": [
        {
          "output_type": "execute_result",
          "data": {
            "text/html": [
              "\n",
              "  <div id=\"df-3a5ce59c-0e19-4111-b9b0-e393612a9765\">\n",
              "    <div class=\"colab-df-container\">\n",
              "      <div>\n",
              "<style scoped>\n",
              "    .dataframe tbody tr th:only-of-type {\n",
              "        vertical-align: middle;\n",
              "    }\n",
              "\n",
              "    .dataframe tbody tr th {\n",
              "        vertical-align: top;\n",
              "    }\n",
              "\n",
              "    .dataframe thead th {\n",
              "        text-align: right;\n",
              "    }\n",
              "</style>\n",
              "<table border=\"1\" class=\"dataframe\">\n",
              "  <thead>\n",
              "    <tr style=\"text-align: right;\">\n",
              "      <th></th>\n",
              "      <th>name</th>\n",
              "      <th>height</th>\n",
              "      <th>mass</th>\n",
              "      <th>hair_color</th>\n",
              "      <th>skin_color</th>\n",
              "      <th>eye_color</th>\n",
              "      <th>birth_year</th>\n",
              "      <th>sex</th>\n",
              "      <th>gender</th>\n",
              "      <th>homeworld</th>\n",
              "      <th>species</th>\n",
              "    </tr>\n",
              "  </thead>\n",
              "  <tbody>\n",
              "    <tr>\n",
              "      <th>0</th>\n",
              "      <td>Luke Skywalker</td>\n",
              "      <td>172.0</td>\n",
              "      <td>77.0</td>\n",
              "      <td>blond</td>\n",
              "      <td>fair</td>\n",
              "      <td>blue</td>\n",
              "      <td>19.0</td>\n",
              "      <td>male</td>\n",
              "      <td>masculine</td>\n",
              "      <td>Tatooine</td>\n",
              "      <td>Human</td>\n",
              "    </tr>\n",
              "    <tr>\n",
              "      <th>1</th>\n",
              "      <td>C-3PO</td>\n",
              "      <td>167.0</td>\n",
              "      <td>75.0</td>\n",
              "      <td>NaN</td>\n",
              "      <td>gold</td>\n",
              "      <td>yellow</td>\n",
              "      <td>112.0</td>\n",
              "      <td>none</td>\n",
              "      <td>masculine</td>\n",
              "      <td>Tatooine</td>\n",
              "      <td>Droid</td>\n",
              "    </tr>\n",
              "    <tr>\n",
              "      <th>2</th>\n",
              "      <td>R2-D2</td>\n",
              "      <td>96.0</td>\n",
              "      <td>32.0</td>\n",
              "      <td>NaN</td>\n",
              "      <td>white, blue</td>\n",
              "      <td>red</td>\n",
              "      <td>33.0</td>\n",
              "      <td>none</td>\n",
              "      <td>masculine</td>\n",
              "      <td>Naboo</td>\n",
              "      <td>Droid</td>\n",
              "    </tr>\n",
              "    <tr>\n",
              "      <th>3</th>\n",
              "      <td>Darth Vader</td>\n",
              "      <td>202.0</td>\n",
              "      <td>136.0</td>\n",
              "      <td>none</td>\n",
              "      <td>white</td>\n",
              "      <td>yellow</td>\n",
              "      <td>41.9</td>\n",
              "      <td>male</td>\n",
              "      <td>masculine</td>\n",
              "      <td>Tatooine</td>\n",
              "      <td>Human</td>\n",
              "    </tr>\n",
              "    <tr>\n",
              "      <th>4</th>\n",
              "      <td>Leia Organa</td>\n",
              "      <td>150.0</td>\n",
              "      <td>49.0</td>\n",
              "      <td>brown</td>\n",
              "      <td>light</td>\n",
              "      <td>brown</td>\n",
              "      <td>19.0</td>\n",
              "      <td>female</td>\n",
              "      <td>feminine</td>\n",
              "      <td>Alderaan</td>\n",
              "      <td>Human</td>\n",
              "    </tr>\n",
              "  </tbody>\n",
              "</table>\n",
              "</div>\n",
              "      <button class=\"colab-df-convert\" onclick=\"convertToInteractive('df-3a5ce59c-0e19-4111-b9b0-e393612a9765')\"\n",
              "              title=\"Convert this dataframe to an interactive table.\"\n",
              "              style=\"display:none;\">\n",
              "        \n",
              "  <svg xmlns=\"http://www.w3.org/2000/svg\" height=\"24px\"viewBox=\"0 0 24 24\"\n",
              "       width=\"24px\">\n",
              "    <path d=\"M0 0h24v24H0V0z\" fill=\"none\"/>\n",
              "    <path d=\"M18.56 5.44l.94 2.06.94-2.06 2.06-.94-2.06-.94-.94-2.06-.94 2.06-2.06.94zm-11 1L8.5 8.5l.94-2.06 2.06-.94-2.06-.94L8.5 2.5l-.94 2.06-2.06.94zm10 10l.94 2.06.94-2.06 2.06-.94-2.06-.94-.94-2.06-.94 2.06-2.06.94z\"/><path d=\"M17.41 7.96l-1.37-1.37c-.4-.4-.92-.59-1.43-.59-.52 0-1.04.2-1.43.59L10.3 9.45l-7.72 7.72c-.78.78-.78 2.05 0 2.83L4 21.41c.39.39.9.59 1.41.59.51 0 1.02-.2 1.41-.59l7.78-7.78 2.81-2.81c.8-.78.8-2.07 0-2.86zM5.41 20L4 18.59l7.72-7.72 1.47 1.35L5.41 20z\"/>\n",
              "  </svg>\n",
              "      </button>\n",
              "      \n",
              "  <style>\n",
              "    .colab-df-container {\n",
              "      display:flex;\n",
              "      flex-wrap:wrap;\n",
              "      gap: 12px;\n",
              "    }\n",
              "\n",
              "    .colab-df-convert {\n",
              "      background-color: #E8F0FE;\n",
              "      border: none;\n",
              "      border-radius: 50%;\n",
              "      cursor: pointer;\n",
              "      display: none;\n",
              "      fill: #1967D2;\n",
              "      height: 32px;\n",
              "      padding: 0 0 0 0;\n",
              "      width: 32px;\n",
              "    }\n",
              "\n",
              "    .colab-df-convert:hover {\n",
              "      background-color: #E2EBFA;\n",
              "      box-shadow: 0px 1px 2px rgba(60, 64, 67, 0.3), 0px 1px 3px 1px rgba(60, 64, 67, 0.15);\n",
              "      fill: #174EA6;\n",
              "    }\n",
              "\n",
              "    [theme=dark] .colab-df-convert {\n",
              "      background-color: #3B4455;\n",
              "      fill: #D2E3FC;\n",
              "    }\n",
              "\n",
              "    [theme=dark] .colab-df-convert:hover {\n",
              "      background-color: #434B5C;\n",
              "      box-shadow: 0px 1px 3px 1px rgba(0, 0, 0, 0.15);\n",
              "      filter: drop-shadow(0px 1px 2px rgba(0, 0, 0, 0.3));\n",
              "      fill: #FFFFFF;\n",
              "    }\n",
              "  </style>\n",
              "\n",
              "      <script>\n",
              "        const buttonEl =\n",
              "          document.querySelector('#df-3a5ce59c-0e19-4111-b9b0-e393612a9765 button.colab-df-convert');\n",
              "        buttonEl.style.display =\n",
              "          google.colab.kernel.accessAllowed ? 'block' : 'none';\n",
              "\n",
              "        async function convertToInteractive(key) {\n",
              "          const element = document.querySelector('#df-3a5ce59c-0e19-4111-b9b0-e393612a9765');\n",
              "          const dataTable =\n",
              "            await google.colab.kernel.invokeFunction('convertToInteractive',\n",
              "                                                     [key], {});\n",
              "          if (!dataTable) return;\n",
              "\n",
              "          const docLinkHtml = 'Like what you see? Visit the ' +\n",
              "            '<a target=\"_blank\" href=https://colab.research.google.com/notebooks/data_table.ipynb>data table notebook</a>'\n",
              "            + ' to learn more about interactive tables.';\n",
              "          element.innerHTML = '';\n",
              "          dataTable['output_type'] = 'display_data';\n",
              "          await google.colab.output.renderOutput(dataTable, element);\n",
              "          const docLink = document.createElement('div');\n",
              "          docLink.innerHTML = docLinkHtml;\n",
              "          element.appendChild(docLink);\n",
              "        }\n",
              "      </script>\n",
              "    </div>\n",
              "  </div>\n",
              "  "
            ],
            "text/plain": [
              "             name  height   mass hair_color   skin_color eye_color  \\\n",
              "0  Luke Skywalker   172.0   77.0      blond         fair      blue   \n",
              "1           C-3PO   167.0   75.0        NaN         gold    yellow   \n",
              "2           R2-D2    96.0   32.0        NaN  white, blue       red   \n",
              "3     Darth Vader   202.0  136.0       none        white    yellow   \n",
              "4     Leia Organa   150.0   49.0      brown        light     brown   \n",
              "\n",
              "   birth_year     sex     gender homeworld species  \n",
              "0        19.0    male  masculine  Tatooine   Human  \n",
              "1       112.0    none  masculine  Tatooine   Droid  \n",
              "2        33.0    none  masculine     Naboo   Droid  \n",
              "3        41.9    male  masculine  Tatooine   Human  \n",
              "4        19.0  female   feminine  Alderaan   Human  "
            ]
          },
          "metadata": {},
          "execution_count": 5
        }
      ]
    },
    {
      "cell_type": "markdown",
      "metadata": {
        "id": "mwFmIeyv4xll"
      },
      "source": [
        "<컬럼 설명>   \n",
        "* name: 캐릭터 이름  \n",
        "* height: 키  \n",
        "* mass: 몸무게  \n",
        "* hair_color: 머리카락 색  \n",
        "* skin_color: 피부색  \n",
        "* eye_color: 눈동자 색  \n",
        "* birth_year: 생년  \n",
        "* sex: 생물학적 성별  \n",
        "* gender: 사회적 성별  \n",
        "* homeworld: 고향  \n",
        "* species: 종"
      ]
    },
    {
      "cell_type": "code",
      "source": [
        ""
      ],
      "metadata": {
        "id": "gRatji5RjA7V"
      },
      "execution_count": null,
      "outputs": []
    },
    {
      "cell_type": "markdown",
      "metadata": {
        "id": "7T0cFw7IiVMw"
      },
      "source": [
        "\n",
        "\n",
        "```\n",
        "# 코드로 형식 지정됨\n",
        "```\n",
        "\n",
        "* 범주형 변수: *빈도frequency 계산 가능*\n",
        "               name, hair_color, skin_color, eye_color, sex, gender, homeworld, species\n",
        "* 연속형 변수: *평균, 표준편차, min/max 등 수치 계산 가능*\n",
        "               height, mass, birth_year"
      ]
    },
    {
      "cell_type": "code",
      "metadata": {
        "id": "G-0hvZaE4E91",
        "colab": {
          "base_uri": "https://localhost:8080/"
        },
        "outputId": "51a392ec-e3e1-4bfc-e8a4-e19547fb7a17"
      },
      "source": [
        "#컬럼 기본 정보 확인하기\n",
        "sw.info()"
      ],
      "execution_count": 6,
      "outputs": [
        {
          "output_type": "stream",
          "name": "stdout",
          "text": [
            "<class 'pandas.core.frame.DataFrame'>\n",
            "RangeIndex: 87 entries, 0 to 86\n",
            "Data columns (total 11 columns):\n",
            " #   Column      Non-Null Count  Dtype  \n",
            "---  ------      --------------  -----  \n",
            " 0   name        87 non-null     object \n",
            " 1   height      81 non-null     float64\n",
            " 2   mass        59 non-null     float64\n",
            " 3   hair_color  82 non-null     object \n",
            " 4   skin_color  87 non-null     object \n",
            " 5   eye_color   87 non-null     object \n",
            " 6   birth_year  43 non-null     float64\n",
            " 7   sex         83 non-null     object \n",
            " 8   gender      83 non-null     object \n",
            " 9   homeworld   77 non-null     object \n",
            " 10  species     83 non-null     object \n",
            "dtypes: float64(3), object(8)\n",
            "memory usage: 7.6+ KB\n"
          ]
        }
      ]
    },
    {
      "cell_type": "code",
      "metadata": {
        "id": "Dus13QqQ8LnR",
        "colab": {
          "base_uri": "https://localhost:8080/",
          "height": 300
        },
        "outputId": "74350d3d-60b7-4bbe-dd2b-2f6aaf160bae"
      },
      "source": [
        "#연속형(수치) 데이터의 통계치 확인하기\n",
        "sw.describe()"
      ],
      "execution_count": 7,
      "outputs": [
        {
          "output_type": "execute_result",
          "data": {
            "text/html": [
              "\n",
              "  <div id=\"df-ab2c11f9-f392-494a-8230-8ebfd3a0f26b\">\n",
              "    <div class=\"colab-df-container\">\n",
              "      <div>\n",
              "<style scoped>\n",
              "    .dataframe tbody tr th:only-of-type {\n",
              "        vertical-align: middle;\n",
              "    }\n",
              "\n",
              "    .dataframe tbody tr th {\n",
              "        vertical-align: top;\n",
              "    }\n",
              "\n",
              "    .dataframe thead th {\n",
              "        text-align: right;\n",
              "    }\n",
              "</style>\n",
              "<table border=\"1\" class=\"dataframe\">\n",
              "  <thead>\n",
              "    <tr style=\"text-align: right;\">\n",
              "      <th></th>\n",
              "      <th>height</th>\n",
              "      <th>mass</th>\n",
              "      <th>birth_year</th>\n",
              "    </tr>\n",
              "  </thead>\n",
              "  <tbody>\n",
              "    <tr>\n",
              "      <th>count</th>\n",
              "      <td>81.000000</td>\n",
              "      <td>59.000000</td>\n",
              "      <td>43.000000</td>\n",
              "    </tr>\n",
              "    <tr>\n",
              "      <th>mean</th>\n",
              "      <td>174.358025</td>\n",
              "      <td>97.311864</td>\n",
              "      <td>87.565116</td>\n",
              "    </tr>\n",
              "    <tr>\n",
              "      <th>std</th>\n",
              "      <td>34.770429</td>\n",
              "      <td>169.457163</td>\n",
              "      <td>154.691439</td>\n",
              "    </tr>\n",
              "    <tr>\n",
              "      <th>min</th>\n",
              "      <td>66.000000</td>\n",
              "      <td>15.000000</td>\n",
              "      <td>8.000000</td>\n",
              "    </tr>\n",
              "    <tr>\n",
              "      <th>25%</th>\n",
              "      <td>167.000000</td>\n",
              "      <td>55.600000</td>\n",
              "      <td>35.000000</td>\n",
              "    </tr>\n",
              "    <tr>\n",
              "      <th>50%</th>\n",
              "      <td>180.000000</td>\n",
              "      <td>79.000000</td>\n",
              "      <td>52.000000</td>\n",
              "    </tr>\n",
              "    <tr>\n",
              "      <th>75%</th>\n",
              "      <td>191.000000</td>\n",
              "      <td>84.500000</td>\n",
              "      <td>72.000000</td>\n",
              "    </tr>\n",
              "    <tr>\n",
              "      <th>max</th>\n",
              "      <td>264.000000</td>\n",
              "      <td>1358.000000</td>\n",
              "      <td>896.000000</td>\n",
              "    </tr>\n",
              "  </tbody>\n",
              "</table>\n",
              "</div>\n",
              "      <button class=\"colab-df-convert\" onclick=\"convertToInteractive('df-ab2c11f9-f392-494a-8230-8ebfd3a0f26b')\"\n",
              "              title=\"Convert this dataframe to an interactive table.\"\n",
              "              style=\"display:none;\">\n",
              "        \n",
              "  <svg xmlns=\"http://www.w3.org/2000/svg\" height=\"24px\"viewBox=\"0 0 24 24\"\n",
              "       width=\"24px\">\n",
              "    <path d=\"M0 0h24v24H0V0z\" fill=\"none\"/>\n",
              "    <path d=\"M18.56 5.44l.94 2.06.94-2.06 2.06-.94-2.06-.94-.94-2.06-.94 2.06-2.06.94zm-11 1L8.5 8.5l.94-2.06 2.06-.94-2.06-.94L8.5 2.5l-.94 2.06-2.06.94zm10 10l.94 2.06.94-2.06 2.06-.94-2.06-.94-.94-2.06-.94 2.06-2.06.94z\"/><path d=\"M17.41 7.96l-1.37-1.37c-.4-.4-.92-.59-1.43-.59-.52 0-1.04.2-1.43.59L10.3 9.45l-7.72 7.72c-.78.78-.78 2.05 0 2.83L4 21.41c.39.39.9.59 1.41.59.51 0 1.02-.2 1.41-.59l7.78-7.78 2.81-2.81c.8-.78.8-2.07 0-2.86zM5.41 20L4 18.59l7.72-7.72 1.47 1.35L5.41 20z\"/>\n",
              "  </svg>\n",
              "      </button>\n",
              "      \n",
              "  <style>\n",
              "    .colab-df-container {\n",
              "      display:flex;\n",
              "      flex-wrap:wrap;\n",
              "      gap: 12px;\n",
              "    }\n",
              "\n",
              "    .colab-df-convert {\n",
              "      background-color: #E8F0FE;\n",
              "      border: none;\n",
              "      border-radius: 50%;\n",
              "      cursor: pointer;\n",
              "      display: none;\n",
              "      fill: #1967D2;\n",
              "      height: 32px;\n",
              "      padding: 0 0 0 0;\n",
              "      width: 32px;\n",
              "    }\n",
              "\n",
              "    .colab-df-convert:hover {\n",
              "      background-color: #E2EBFA;\n",
              "      box-shadow: 0px 1px 2px rgba(60, 64, 67, 0.3), 0px 1px 3px 1px rgba(60, 64, 67, 0.15);\n",
              "      fill: #174EA6;\n",
              "    }\n",
              "\n",
              "    [theme=dark] .colab-df-convert {\n",
              "      background-color: #3B4455;\n",
              "      fill: #D2E3FC;\n",
              "    }\n",
              "\n",
              "    [theme=dark] .colab-df-convert:hover {\n",
              "      background-color: #434B5C;\n",
              "      box-shadow: 0px 1px 3px 1px rgba(0, 0, 0, 0.15);\n",
              "      filter: drop-shadow(0px 1px 2px rgba(0, 0, 0, 0.3));\n",
              "      fill: #FFFFFF;\n",
              "    }\n",
              "  </style>\n",
              "\n",
              "      <script>\n",
              "        const buttonEl =\n",
              "          document.querySelector('#df-ab2c11f9-f392-494a-8230-8ebfd3a0f26b button.colab-df-convert');\n",
              "        buttonEl.style.display =\n",
              "          google.colab.kernel.accessAllowed ? 'block' : 'none';\n",
              "\n",
              "        async function convertToInteractive(key) {\n",
              "          const element = document.querySelector('#df-ab2c11f9-f392-494a-8230-8ebfd3a0f26b');\n",
              "          const dataTable =\n",
              "            await google.colab.kernel.invokeFunction('convertToInteractive',\n",
              "                                                     [key], {});\n",
              "          if (!dataTable) return;\n",
              "\n",
              "          const docLinkHtml = 'Like what you see? Visit the ' +\n",
              "            '<a target=\"_blank\" href=https://colab.research.google.com/notebooks/data_table.ipynb>data table notebook</a>'\n",
              "            + ' to learn more about interactive tables.';\n",
              "          element.innerHTML = '';\n",
              "          dataTable['output_type'] = 'display_data';\n",
              "          await google.colab.output.renderOutput(dataTable, element);\n",
              "          const docLink = document.createElement('div');\n",
              "          docLink.innerHTML = docLinkHtml;\n",
              "          element.appendChild(docLink);\n",
              "        }\n",
              "      </script>\n",
              "    </div>\n",
              "  </div>\n",
              "  "
            ],
            "text/plain": [
              "           height         mass  birth_year\n",
              "count   81.000000    59.000000   43.000000\n",
              "mean   174.358025    97.311864   87.565116\n",
              "std     34.770429   169.457163  154.691439\n",
              "min     66.000000    15.000000    8.000000\n",
              "25%    167.000000    55.600000   35.000000\n",
              "50%    180.000000    79.000000   52.000000\n",
              "75%    191.000000    84.500000   72.000000\n",
              "max    264.000000  1358.000000  896.000000"
            ]
          },
          "metadata": {},
          "execution_count": 7
        }
      ]
    },
    {
      "cell_type": "code",
      "metadata": {
        "id": "E5XVM8NXlPwN",
        "colab": {
          "base_uri": "https://localhost:8080/",
          "height": 230
        },
        "outputId": "2ef628cc-5e43-4001-dc05-78bf19812655"
      },
      "source": [
        "#범주형 데이터의 통계치 확인하기\n",
        "sw.describe(include=np.object)"
      ],
      "execution_count": 8,
      "outputs": [
        {
          "output_type": "stream",
          "name": "stderr",
          "text": [
            "/usr/local/lib/python3.7/dist-packages/ipykernel_launcher.py:2: DeprecationWarning: `np.object` is a deprecated alias for the builtin `object`. To silence this warning, use `object` by itself. Doing this will not modify any behavior and is safe. \n",
            "Deprecated in NumPy 1.20; for more details and guidance: https://numpy.org/devdocs/release/1.20.0-notes.html#deprecations\n",
            "  \n"
          ]
        },
        {
          "output_type": "execute_result",
          "data": {
            "text/html": [
              "\n",
              "  <div id=\"df-591e1918-de90-47d0-91ab-b4722b4b43a4\">\n",
              "    <div class=\"colab-df-container\">\n",
              "      <div>\n",
              "<style scoped>\n",
              "    .dataframe tbody tr th:only-of-type {\n",
              "        vertical-align: middle;\n",
              "    }\n",
              "\n",
              "    .dataframe tbody tr th {\n",
              "        vertical-align: top;\n",
              "    }\n",
              "\n",
              "    .dataframe thead th {\n",
              "        text-align: right;\n",
              "    }\n",
              "</style>\n",
              "<table border=\"1\" class=\"dataframe\">\n",
              "  <thead>\n",
              "    <tr style=\"text-align: right;\">\n",
              "      <th></th>\n",
              "      <th>name</th>\n",
              "      <th>hair_color</th>\n",
              "      <th>skin_color</th>\n",
              "      <th>eye_color</th>\n",
              "      <th>sex</th>\n",
              "      <th>gender</th>\n",
              "      <th>homeworld</th>\n",
              "      <th>species</th>\n",
              "    </tr>\n",
              "  </thead>\n",
              "  <tbody>\n",
              "    <tr>\n",
              "      <th>count</th>\n",
              "      <td>87</td>\n",
              "      <td>82</td>\n",
              "      <td>87</td>\n",
              "      <td>87</td>\n",
              "      <td>83</td>\n",
              "      <td>83</td>\n",
              "      <td>77</td>\n",
              "      <td>83</td>\n",
              "    </tr>\n",
              "    <tr>\n",
              "      <th>unique</th>\n",
              "      <td>87</td>\n",
              "      <td>12</td>\n",
              "      <td>31</td>\n",
              "      <td>15</td>\n",
              "      <td>4</td>\n",
              "      <td>2</td>\n",
              "      <td>48</td>\n",
              "      <td>37</td>\n",
              "    </tr>\n",
              "    <tr>\n",
              "      <th>top</th>\n",
              "      <td>Luke Skywalker</td>\n",
              "      <td>none</td>\n",
              "      <td>fair</td>\n",
              "      <td>brown</td>\n",
              "      <td>male</td>\n",
              "      <td>masculine</td>\n",
              "      <td>Naboo</td>\n",
              "      <td>Human</td>\n",
              "    </tr>\n",
              "    <tr>\n",
              "      <th>freq</th>\n",
              "      <td>1</td>\n",
              "      <td>37</td>\n",
              "      <td>17</td>\n",
              "      <td>21</td>\n",
              "      <td>60</td>\n",
              "      <td>66</td>\n",
              "      <td>11</td>\n",
              "      <td>35</td>\n",
              "    </tr>\n",
              "  </tbody>\n",
              "</table>\n",
              "</div>\n",
              "      <button class=\"colab-df-convert\" onclick=\"convertToInteractive('df-591e1918-de90-47d0-91ab-b4722b4b43a4')\"\n",
              "              title=\"Convert this dataframe to an interactive table.\"\n",
              "              style=\"display:none;\">\n",
              "        \n",
              "  <svg xmlns=\"http://www.w3.org/2000/svg\" height=\"24px\"viewBox=\"0 0 24 24\"\n",
              "       width=\"24px\">\n",
              "    <path d=\"M0 0h24v24H0V0z\" fill=\"none\"/>\n",
              "    <path d=\"M18.56 5.44l.94 2.06.94-2.06 2.06-.94-2.06-.94-.94-2.06-.94 2.06-2.06.94zm-11 1L8.5 8.5l.94-2.06 2.06-.94-2.06-.94L8.5 2.5l-.94 2.06-2.06.94zm10 10l.94 2.06.94-2.06 2.06-.94-2.06-.94-.94-2.06-.94 2.06-2.06.94z\"/><path d=\"M17.41 7.96l-1.37-1.37c-.4-.4-.92-.59-1.43-.59-.52 0-1.04.2-1.43.59L10.3 9.45l-7.72 7.72c-.78.78-.78 2.05 0 2.83L4 21.41c.39.39.9.59 1.41.59.51 0 1.02-.2 1.41-.59l7.78-7.78 2.81-2.81c.8-.78.8-2.07 0-2.86zM5.41 20L4 18.59l7.72-7.72 1.47 1.35L5.41 20z\"/>\n",
              "  </svg>\n",
              "      </button>\n",
              "      \n",
              "  <style>\n",
              "    .colab-df-container {\n",
              "      display:flex;\n",
              "      flex-wrap:wrap;\n",
              "      gap: 12px;\n",
              "    }\n",
              "\n",
              "    .colab-df-convert {\n",
              "      background-color: #E8F0FE;\n",
              "      border: none;\n",
              "      border-radius: 50%;\n",
              "      cursor: pointer;\n",
              "      display: none;\n",
              "      fill: #1967D2;\n",
              "      height: 32px;\n",
              "      padding: 0 0 0 0;\n",
              "      width: 32px;\n",
              "    }\n",
              "\n",
              "    .colab-df-convert:hover {\n",
              "      background-color: #E2EBFA;\n",
              "      box-shadow: 0px 1px 2px rgba(60, 64, 67, 0.3), 0px 1px 3px 1px rgba(60, 64, 67, 0.15);\n",
              "      fill: #174EA6;\n",
              "    }\n",
              "\n",
              "    [theme=dark] .colab-df-convert {\n",
              "      background-color: #3B4455;\n",
              "      fill: #D2E3FC;\n",
              "    }\n",
              "\n",
              "    [theme=dark] .colab-df-convert:hover {\n",
              "      background-color: #434B5C;\n",
              "      box-shadow: 0px 1px 3px 1px rgba(0, 0, 0, 0.15);\n",
              "      filter: drop-shadow(0px 1px 2px rgba(0, 0, 0, 0.3));\n",
              "      fill: #FFFFFF;\n",
              "    }\n",
              "  </style>\n",
              "\n",
              "      <script>\n",
              "        const buttonEl =\n",
              "          document.querySelector('#df-591e1918-de90-47d0-91ab-b4722b4b43a4 button.colab-df-convert');\n",
              "        buttonEl.style.display =\n",
              "          google.colab.kernel.accessAllowed ? 'block' : 'none';\n",
              "\n",
              "        async function convertToInteractive(key) {\n",
              "          const element = document.querySelector('#df-591e1918-de90-47d0-91ab-b4722b4b43a4');\n",
              "          const dataTable =\n",
              "            await google.colab.kernel.invokeFunction('convertToInteractive',\n",
              "                                                     [key], {});\n",
              "          if (!dataTable) return;\n",
              "\n",
              "          const docLinkHtml = 'Like what you see? Visit the ' +\n",
              "            '<a target=\"_blank\" href=https://colab.research.google.com/notebooks/data_table.ipynb>data table notebook</a>'\n",
              "            + ' to learn more about interactive tables.';\n",
              "          element.innerHTML = '';\n",
              "          dataTable['output_type'] = 'display_data';\n",
              "          await google.colab.output.renderOutput(dataTable, element);\n",
              "          const docLink = document.createElement('div');\n",
              "          docLink.innerHTML = docLinkHtml;\n",
              "          element.appendChild(docLink);\n",
              "        }\n",
              "      </script>\n",
              "    </div>\n",
              "  </div>\n",
              "  "
            ],
            "text/plain": [
              "                  name hair_color skin_color eye_color   sex     gender  \\\n",
              "count               87         82         87        87    83         83   \n",
              "unique              87         12         31        15     4          2   \n",
              "top     Luke Skywalker       none       fair     brown  male  masculine   \n",
              "freq                 1         37         17        21    60         66   \n",
              "\n",
              "       homeworld species  \n",
              "count         77      83  \n",
              "unique        48      37  \n",
              "top        Naboo   Human  \n",
              "freq          11      35  "
            ]
          },
          "metadata": {},
          "execution_count": 8
        }
      ]
    },
    {
      "cell_type": "code",
      "metadata": {
        "id": "BH6yxwF06LbW",
        "colab": {
          "base_uri": "https://localhost:8080/"
        },
        "outputId": "9e81948f-c3ff-44e1-d108-4d9073e233a5"
      },
      "source": [
        "#범주형 데이터 컬럼 안에는 어떤 내용이 들어있을까?\n",
        "print('Hair colour: ', sw['hair_color'].unique())\n",
        "print('Skin colour: ', sw['skin_color'].unique())\n",
        "#print('Eye colour: ', sw['eye_color'].unique())\n",
        "#print('Sex: ', sw[''].______())\n",
        "#print('Gender: ', sw[''].______())\n",
        "#print('Homeworld: ', sw[''].______())\n",
        "#print('Species: ', sw[''].______())\n",
        "#범주가 적으면 범주 별 그래프를 그리기 쉽다\n",
        "#이 데이터에서는 sex, gender!"
      ],
      "execution_count": 9,
      "outputs": [
        {
          "output_type": "stream",
          "name": "stdout",
          "text": [
            "Hair colour:  ['blond' nan 'none' 'brown' 'brown, grey' 'black' 'auburn, white'\n",
            " 'auburn, grey' 'white' 'grey' 'auburn' 'blonde' 'unknown']\n",
            "Skin colour:  ['fair' 'gold' 'white, blue' 'white' 'light' 'white, red' 'unknown'\n",
            " 'green' 'green-tan, brown' 'pale' 'metal' 'dark' 'brown mottle' 'brown'\n",
            " 'grey' 'mottled green' 'orange' 'blue, grey' 'grey, red' 'red' 'blue'\n",
            " 'grey, green, yellow' 'yellow' 'tan' 'fair, green, yellow' 'grey, blue'\n",
            " 'silver, red' 'green, grey' 'red, blue, white' 'brown, white' 'none']\n"
          ]
        }
      ]
    },
    {
      "cell_type": "code",
      "metadata": {
        "id": "gB_Q12HUFP-s",
        "colab": {
          "base_uri": "https://localhost:8080/"
        },
        "outputId": "f2c6e9d3-c958-492e-dba6-3dfc02c60bc6"
      },
      "source": [
        "#데이터 내용 간단히 정리해서 출력하기\n",
        "print(\"총 데이터 개수: \", sw.shape[0]*sw.shape[1])\n",
        "print(\"총 결측치 수: {} = 전체 데이터의 {:.2f}% \".format(sw.isnull().sum().sum(), (sw.isnull().sum().sum()*100)/(sw.shape[0]*sw.shape[1])))\n",
        "print(\"스타워즈에 등장하는 등장인물 수: \", sw['name'].nunique())\n",
        "print(\"스타워즈에 등장하는 종족 수: \", sw['species'].nunique())"
      ],
      "execution_count": 11,
      "outputs": [
        {
          "output_type": "stream",
          "name": "stdout",
          "text": [
            "총 데이터 개수:  957\n",
            "총 결측치 수: 105 = 전체 데이터의 10.97% \n",
            "스타워즈에 등장하는 등장인물 수:  87\n",
            "스타워즈에 등장하는 종족 수:  37\n"
          ]
        }
      ]
    },
    {
      "cell_type": "markdown",
      "metadata": {
        "id": "pIJrMgjSTZRU"
      },
      "source": [
        "##2.데이터를 보고 질문 만들기\n",
        "* 스타워즈 캐릭터의 성별 비율은?\n",
        "* 성별에 따른 캐릭터 신장의 분포는?\n",
        "* 가장 무거운 캐릭터와 가장 가벼운 캐릭터는?\n",
        "* 스타워즈 캐릭터의 키와 몸무게는 상관관계를 가질까?"
      ]
    },
    {
      "cell_type": "markdown",
      "metadata": {
        "id": "t_Lgxtx173SN"
      },
      "source": [
        "##3.데이터 정비하기"
      ]
    },
    {
      "cell_type": "code",
      "source": [
        ""
      ],
      "metadata": {
        "id": "hKJwuyMRm4RO"
      },
      "execution_count": null,
      "outputs": []
    },
    {
      "cell_type": "markdown",
      "metadata": {
        "id": "3vLtXt7C8AQ2"
      },
      "source": [
        "###3-1.결측치 처리하기"
      ]
    },
    {
      "cell_type": "code",
      "metadata": {
        "id": "kI-6N8XQ78Jw",
        "colab": {
          "base_uri": "https://localhost:8080/"
        },
        "outputId": "dfa109ef-e7f6-42ba-bb93-140fd48c61a9"
      },
      "source": [
        "#NULL이 존재하는 컬럼 확인하기 \n",
        "sw.isnull().any(axis=0)\n",
        "#height, mass, type, x, y 컬럼에 NaN 존재한다"
      ],
      "execution_count": 12,
      "outputs": [
        {
          "output_type": "execute_result",
          "data": {
            "text/plain": [
              "name          False\n",
              "height         True\n",
              "mass           True\n",
              "hair_color     True\n",
              "skin_color    False\n",
              "eye_color     False\n",
              "birth_year     True\n",
              "sex            True\n",
              "gender         True\n",
              "homeworld      True\n",
              "species        True\n",
              "dtype: bool"
            ]
          },
          "metadata": {},
          "execution_count": 12
        }
      ]
    },
    {
      "cell_type": "markdown",
      "source": [
        ""
      ],
      "metadata": {
        "id": "RtojnPed8eMj"
      }
    },
    {
      "cell_type": "code",
      "metadata": {
        "id": "PRVc91Hjqr5r",
        "colab": {
          "base_uri": "https://localhost:8080/"
        },
        "outputId": "2daa0ed3-b046-44fb-a54d-fbd900814674"
      },
      "source": [
        "#컬럼별로 NULL 개수 확인하기\n",
        "sw.isnull().sum()"
      ],
      "execution_count": 13,
      "outputs": [
        {
          "output_type": "execute_result",
          "data": {
            "text/plain": [
              "name           0\n",
              "height         6\n",
              "mass          28\n",
              "hair_color     5\n",
              "skin_color     0\n",
              "eye_color      0\n",
              "birth_year    44\n",
              "sex            4\n",
              "gender         4\n",
              "homeworld     10\n",
              "species        4\n",
              "dtype: int64"
            ]
          },
          "metadata": {},
          "execution_count": 13
        }
      ]
    },
    {
      "cell_type": "code",
      "metadata": {
        "id": "RgfqlFND6yfi",
        "colab": {
          "base_uri": "https://localhost:8080/",
          "height": 206
        },
        "outputId": "dca8a4cb-404d-48d2-b33c-985d6e30a4e8"
      },
      "source": [
        "#어떤 컬럼의 결측치를 처리할것인가?\n",
        "#hair color, sex, gender, homeworld, species의 경우 개인 특성이므로 다른 값을 넣어주는 것이 의미가 없다\n",
        "#height, mass에서는 결측치를 0으로 처리해보자\n",
        "sw['height'].fillna(0, inplace=True)\n",
        "sw['mass'].fillna(0, inplace=True)\n",
        "sw.head()"
      ],
      "execution_count": 16,
      "outputs": [
        {
          "output_type": "execute_result",
          "data": {
            "text/html": [
              "\n",
              "  <div id=\"df-641de71b-8b7a-45f7-ac92-2d2656628f74\">\n",
              "    <div class=\"colab-df-container\">\n",
              "      <div>\n",
              "<style scoped>\n",
              "    .dataframe tbody tr th:only-of-type {\n",
              "        vertical-align: middle;\n",
              "    }\n",
              "\n",
              "    .dataframe tbody tr th {\n",
              "        vertical-align: top;\n",
              "    }\n",
              "\n",
              "    .dataframe thead th {\n",
              "        text-align: right;\n",
              "    }\n",
              "</style>\n",
              "<table border=\"1\" class=\"dataframe\">\n",
              "  <thead>\n",
              "    <tr style=\"text-align: right;\">\n",
              "      <th></th>\n",
              "      <th>name</th>\n",
              "      <th>height</th>\n",
              "      <th>mass</th>\n",
              "      <th>hair_color</th>\n",
              "      <th>skin_color</th>\n",
              "      <th>eye_color</th>\n",
              "      <th>birth_year</th>\n",
              "      <th>sex</th>\n",
              "      <th>gender</th>\n",
              "      <th>homeworld</th>\n",
              "      <th>species</th>\n",
              "    </tr>\n",
              "  </thead>\n",
              "  <tbody>\n",
              "    <tr>\n",
              "      <th>0</th>\n",
              "      <td>Luke Skywalker</td>\n",
              "      <td>172.0</td>\n",
              "      <td>77.0</td>\n",
              "      <td>blond</td>\n",
              "      <td>fair</td>\n",
              "      <td>blue</td>\n",
              "      <td>19.0</td>\n",
              "      <td>male</td>\n",
              "      <td>masculine</td>\n",
              "      <td>Tatooine</td>\n",
              "      <td>Human</td>\n",
              "    </tr>\n",
              "    <tr>\n",
              "      <th>1</th>\n",
              "      <td>C-3PO</td>\n",
              "      <td>167.0</td>\n",
              "      <td>75.0</td>\n",
              "      <td>NaN</td>\n",
              "      <td>gold</td>\n",
              "      <td>yellow</td>\n",
              "      <td>112.0</td>\n",
              "      <td>none</td>\n",
              "      <td>masculine</td>\n",
              "      <td>Tatooine</td>\n",
              "      <td>Droid</td>\n",
              "    </tr>\n",
              "    <tr>\n",
              "      <th>2</th>\n",
              "      <td>R2-D2</td>\n",
              "      <td>96.0</td>\n",
              "      <td>32.0</td>\n",
              "      <td>NaN</td>\n",
              "      <td>white, blue</td>\n",
              "      <td>red</td>\n",
              "      <td>33.0</td>\n",
              "      <td>none</td>\n",
              "      <td>masculine</td>\n",
              "      <td>Naboo</td>\n",
              "      <td>Droid</td>\n",
              "    </tr>\n",
              "    <tr>\n",
              "      <th>3</th>\n",
              "      <td>Darth Vader</td>\n",
              "      <td>202.0</td>\n",
              "      <td>136.0</td>\n",
              "      <td>none</td>\n",
              "      <td>white</td>\n",
              "      <td>yellow</td>\n",
              "      <td>41.9</td>\n",
              "      <td>male</td>\n",
              "      <td>masculine</td>\n",
              "      <td>Tatooine</td>\n",
              "      <td>Human</td>\n",
              "    </tr>\n",
              "    <tr>\n",
              "      <th>4</th>\n",
              "      <td>Leia Organa</td>\n",
              "      <td>150.0</td>\n",
              "      <td>49.0</td>\n",
              "      <td>brown</td>\n",
              "      <td>light</td>\n",
              "      <td>brown</td>\n",
              "      <td>19.0</td>\n",
              "      <td>female</td>\n",
              "      <td>feminine</td>\n",
              "      <td>Alderaan</td>\n",
              "      <td>Human</td>\n",
              "    </tr>\n",
              "  </tbody>\n",
              "</table>\n",
              "</div>\n",
              "      <button class=\"colab-df-convert\" onclick=\"convertToInteractive('df-641de71b-8b7a-45f7-ac92-2d2656628f74')\"\n",
              "              title=\"Convert this dataframe to an interactive table.\"\n",
              "              style=\"display:none;\">\n",
              "        \n",
              "  <svg xmlns=\"http://www.w3.org/2000/svg\" height=\"24px\"viewBox=\"0 0 24 24\"\n",
              "       width=\"24px\">\n",
              "    <path d=\"M0 0h24v24H0V0z\" fill=\"none\"/>\n",
              "    <path d=\"M18.56 5.44l.94 2.06.94-2.06 2.06-.94-2.06-.94-.94-2.06-.94 2.06-2.06.94zm-11 1L8.5 8.5l.94-2.06 2.06-.94-2.06-.94L8.5 2.5l-.94 2.06-2.06.94zm10 10l.94 2.06.94-2.06 2.06-.94-2.06-.94-.94-2.06-.94 2.06-2.06.94z\"/><path d=\"M17.41 7.96l-1.37-1.37c-.4-.4-.92-.59-1.43-.59-.52 0-1.04.2-1.43.59L10.3 9.45l-7.72 7.72c-.78.78-.78 2.05 0 2.83L4 21.41c.39.39.9.59 1.41.59.51 0 1.02-.2 1.41-.59l7.78-7.78 2.81-2.81c.8-.78.8-2.07 0-2.86zM5.41 20L4 18.59l7.72-7.72 1.47 1.35L5.41 20z\"/>\n",
              "  </svg>\n",
              "      </button>\n",
              "      \n",
              "  <style>\n",
              "    .colab-df-container {\n",
              "      display:flex;\n",
              "      flex-wrap:wrap;\n",
              "      gap: 12px;\n",
              "    }\n",
              "\n",
              "    .colab-df-convert {\n",
              "      background-color: #E8F0FE;\n",
              "      border: none;\n",
              "      border-radius: 50%;\n",
              "      cursor: pointer;\n",
              "      display: none;\n",
              "      fill: #1967D2;\n",
              "      height: 32px;\n",
              "      padding: 0 0 0 0;\n",
              "      width: 32px;\n",
              "    }\n",
              "\n",
              "    .colab-df-convert:hover {\n",
              "      background-color: #E2EBFA;\n",
              "      box-shadow: 0px 1px 2px rgba(60, 64, 67, 0.3), 0px 1px 3px 1px rgba(60, 64, 67, 0.15);\n",
              "      fill: #174EA6;\n",
              "    }\n",
              "\n",
              "    [theme=dark] .colab-df-convert {\n",
              "      background-color: #3B4455;\n",
              "      fill: #D2E3FC;\n",
              "    }\n",
              "\n",
              "    [theme=dark] .colab-df-convert:hover {\n",
              "      background-color: #434B5C;\n",
              "      box-shadow: 0px 1px 3px 1px rgba(0, 0, 0, 0.15);\n",
              "      filter: drop-shadow(0px 1px 2px rgba(0, 0, 0, 0.3));\n",
              "      fill: #FFFFFF;\n",
              "    }\n",
              "  </style>\n",
              "\n",
              "      <script>\n",
              "        const buttonEl =\n",
              "          document.querySelector('#df-641de71b-8b7a-45f7-ac92-2d2656628f74 button.colab-df-convert');\n",
              "        buttonEl.style.display =\n",
              "          google.colab.kernel.accessAllowed ? 'block' : 'none';\n",
              "\n",
              "        async function convertToInteractive(key) {\n",
              "          const element = document.querySelector('#df-641de71b-8b7a-45f7-ac92-2d2656628f74');\n",
              "          const dataTable =\n",
              "            await google.colab.kernel.invokeFunction('convertToInteractive',\n",
              "                                                     [key], {});\n",
              "          if (!dataTable) return;\n",
              "\n",
              "          const docLinkHtml = 'Like what you see? Visit the ' +\n",
              "            '<a target=\"_blank\" href=https://colab.research.google.com/notebooks/data_table.ipynb>data table notebook</a>'\n",
              "            + ' to learn more about interactive tables.';\n",
              "          element.innerHTML = '';\n",
              "          dataTable['output_type'] = 'display_data';\n",
              "          await google.colab.output.renderOutput(dataTable, element);\n",
              "          const docLink = document.createElement('div');\n",
              "          docLink.innerHTML = docLinkHtml;\n",
              "          element.appendChild(docLink);\n",
              "        }\n",
              "      </script>\n",
              "    </div>\n",
              "  </div>\n",
              "  "
            ],
            "text/plain": [
              "             name  height   mass hair_color   skin_color eye_color  \\\n",
              "0  Luke Skywalker   172.0   77.0      blond         fair      blue   \n",
              "1           C-3PO   167.0   75.0        NaN         gold    yellow   \n",
              "2           R2-D2    96.0   32.0        NaN  white, blue       red   \n",
              "3     Darth Vader   202.0  136.0       none        white    yellow   \n",
              "4     Leia Organa   150.0   49.0      brown        light     brown   \n",
              "\n",
              "   birth_year     sex     gender homeworld species  \n",
              "0        19.0    male  masculine  Tatooine   Human  \n",
              "1       112.0    none  masculine  Tatooine   Droid  \n",
              "2        33.0    none  masculine     Naboo   Droid  \n",
              "3        41.9    male  masculine  Tatooine   Human  \n",
              "4        19.0  female   feminine  Alderaan   Human  "
            ]
          },
          "metadata": {},
          "execution_count": 16
        }
      ]
    },
    {
      "cell_type": "code",
      "metadata": {
        "id": "nG4tyoQuTSOe",
        "colab": {
          "base_uri": "https://localhost:8080/"
        },
        "outputId": "4dbbd9cc-f4cc-44d5-94a8-83d4c0483ef2"
      },
      "source": [
        "#sex에 none도 있고 NaN도 있다? \n",
        "print(sw[sw['sex'] == 'none'])\n",
        "print(sw[sw['sex'].isnull()])"
      ],
      "execution_count": 17,
      "outputs": [
        {
          "output_type": "stream",
          "name": "stdout",
          "text": [
            "      name  height   mass hair_color   skin_color  eye_color  birth_year  \\\n",
            "1    C-3PO   167.0   75.0        NaN         gold     yellow       112.0   \n",
            "2    R2-D2    96.0   32.0        NaN  white, blue        red        33.0   \n",
            "7    R5-D4    97.0   32.0        NaN   white, red        red         NaN   \n",
            "21   IG-88   200.0  140.0       none        metal        red        15.0   \n",
            "72  R4-P17    96.0    0.0       none  silver, red  red, blue         NaN   \n",
            "84     BB8     0.0    0.0       none         none      black         NaN   \n",
            "\n",
            "     sex     gender homeworld species  \n",
            "1   none  masculine  Tatooine   Droid  \n",
            "2   none  masculine     Naboo   Droid  \n",
            "7   none  masculine  Tatooine   Droid  \n",
            "21  none  masculine       NaN   Droid  \n",
            "72  none   feminine       NaN   Droid  \n",
            "84  none  masculine       NaN   Droid  \n",
            "              name  height  mass hair_color skin_color eye_color  birth_year  \\\n",
            "36        Ric Oli?   183.0   0.0      brown       fair      blue         NaN   \n",
            "39   Quarsh Panaka   183.0   0.0      black       dark     brown        62.0   \n",
            "79       Sly Moore   178.0  48.0       none       pale     white         NaN   \n",
            "85  Captain Phasma     0.0   0.0    unknown    unknown   unknown         NaN   \n",
            "\n",
            "    sex gender homeworld species  \n",
            "36  NaN    NaN     Naboo     NaN  \n",
            "39  NaN    NaN     Naboo     NaN  \n",
            "79  NaN    NaN    Umbara     NaN  \n",
            "85  NaN    NaN       NaN     NaN  \n"
          ]
        }
      ]
    },
    {
      "cell_type": "code",
      "metadata": {
        "id": "cZ5cadM6UTAQ",
        "colab": {
          "base_uri": "https://localhost:8080/"
        },
        "outputId": "613e5380-b3ce-41e4-88a6-238923d2718d"
      },
      "source": [
        "#sex = none 인 것들은 species = Droid이므로, 컬럼 내용을 바꿔보자\n",
        "sw['sex'][(sw['sex'] == 'none')] = 'robot'\n",
        "print('Sex: ', sw['sex'].unique())"
      ],
      "execution_count": 18,
      "outputs": [
        {
          "output_type": "stream",
          "name": "stdout",
          "text": [
            "Sex:  ['male' 'robot' 'female' 'hermaphroditic' nan]\n"
          ]
        },
        {
          "output_type": "stream",
          "name": "stderr",
          "text": [
            "/usr/local/lib/python3.7/dist-packages/ipykernel_launcher.py:2: SettingWithCopyWarning: \n",
            "A value is trying to be set on a copy of a slice from a DataFrame\n",
            "\n",
            "See the caveats in the documentation: https://pandas.pydata.org/pandas-docs/stable/user_guide/indexing.html#returning-a-view-versus-a-copy\n",
            "  \n"
          ]
        }
      ]
    },
    {
      "cell_type": "markdown",
      "metadata": {
        "id": "hbEQOtz_Nn-6"
      },
      "source": [
        "##4.EDA & Visualization"
      ]
    },
    {
      "cell_type": "markdown",
      "metadata": {
        "id": "Da91oKSnWxsV"
      },
      "source": [
        "###4-1. 스타워즈 캐릭터의 성별 비율"
      ]
    },
    {
      "cell_type": "code",
      "metadata": {
        "id": "Vu249uRYEkHv",
        "colab": {
          "base_uri": "https://localhost:8080/"
        },
        "outputId": "b253300e-f6b3-4d19-d32c-1648365f3ffb"
      },
      "source": [
        "#스타워즈 캐릭터의 성비(sex, gender)는?\n",
        "sw['sex'].value_counts()\n",
        "sw['gender'].value_counts()"
      ],
      "execution_count": 20,
      "outputs": [
        {
          "output_type": "execute_result",
          "data": {
            "text/plain": [
              "masculine    66\n",
              "feminine     17\n",
              "Name: gender, dtype: int64"
            ]
          },
          "metadata": {},
          "execution_count": 20
        }
      ]
    },
    {
      "cell_type": "code",
      "metadata": {
        "id": "-ByHlT4UWvpQ",
        "colab": {
          "base_uri": "https://localhost:8080/",
          "height": 526
        },
        "outputId": "41024074-f13b-4ec1-9a21-3c2296f199e7"
      },
      "source": [
        "f, ax = plt.subplots(1, 2, figsize=(18, 8)) #그래프 틀 정하기\n",
        "\n",
        "#f = a4용지 ax 뭐?\n",
        "#sns.countplot\n",
        "#항목별 갯수를 세어주는 countplot\n",
        "#알아서 해당 column을 구성하고 있는 value들을 구분하여 보여준다.\n",
        "# 차트 가로로 그리기 : x를 y로 변경하면 세로에서 가로 차트로 변경 가능\n",
        "sw['gender'].value_counts().plot.pie(ax=ax[0], autopct='%1.0f%%', shadow=True) #파이그래프 그리기\n",
        "ax[0].set_title('Starwars: Gender', size=18) #그래프 제목\n",
        "ax[0].set_ylabel('') #y 라벨 없애기\n",
        "\n",
        "#sns.countplot\n",
        "#항목별 갯수를 세어주는 countplot\n",
        "#알아서 해당 column을 구성하고 있는 value들을 구분하여 보여준다.\n",
        "# 차트 가로로 그리기 : x를 y로 변경하면 세로에서 가로 차트로 변경 가능\n",
        "sns.countplot(y='sex', data=sw, ax=ax[1])\n",
        "ax[1].set_title('Starwars: Sex', size=18) #그래프 제목\n",
        "\n",
        "plt.show()"
      ],
      "execution_count": 22,
      "outputs": [
        {
          "output_type": "display_data",
          "data": {
            "image/png": "[encoded data removed]",
            "text/plain": [
              "<Figure size 1296x576 with 2 Axes>"
            ]
          },
          "metadata": {
            "needs_background": "light"
          }
        }
      ]
    },
    {
      "cell_type": "markdown",
      "metadata": {
        "id": "C2AEfyjvSMQj"
      },
      "source": [
        "###4-2. 스타워즈 캐릭터의 성별에 따른 신장 분포"
      ]
    },
    {
      "cell_type": "code",
      "metadata": {
        "id": "zbxh0io5mXJ2",
        "colab": {
          "base_uri": "https://localhost:8080/"
        },
        "outputId": "dde3ff44-f573-4fbc-d955-f15aea0e7ffa"
      },
      "source": [
        "#스타워즈 캐릭터의 신장 확인하기\n",
        "#연속형(수치) 데이터의 통계치 확인하기: 최솟값과 최댓값\n",
        "sw['height'].describe()"
      ],
      "execution_count": 23,
      "outputs": [
        {
          "output_type": "execute_result",
          "data": {
            "text/plain": [
              "count     87.000000\n",
              "mean     162.333333\n",
              "std       55.671726\n",
              "min        0.000000\n",
              "25%      164.000000\n",
              "50%      178.000000\n",
              "75%      190.500000\n",
              "max      264.000000\n",
              "Name: height, dtype: float64"
            ]
          },
          "metadata": {},
          "execution_count": 23
        }
      ]
    },
    {
      "cell_type": "code",
      "metadata": {
        "id": "Yo27gESEmqkP",
        "colab": {
          "base_uri": "https://localhost:8080/"
        },
        "outputId": "d004a023-91a5-46b1-b300-e79b74b42fcb"
      },
      "source": [
        "#skewness and kurtosis 구하기\n",
        "#Skewness(왜도): 데이터가 정규분포에서 한 쪽으로 치우쳐있는가?\n",
        "#                -3 < skewness < 3 사이의 값이면 기준에 부합한다\n",
        "#Kurtosis(첨도): 얼마나 뾰족한가(데이터가 얼마나 평균 근처에 몰려있는가)?\n",
        "#               : 정규분포의 kurtosis = 0\n",
        "print(\"Skewness: %f\" % sw['height'].skew())\n",
        "print(\"Kurtosis: %f\" % sw['height'].kurt())"
      ],
      "execution_count": 24,
      "outputs": [
        {
          "output_type": "stream",
          "name": "stdout",
          "text": [
            "Skewness: -1.760878\n",
            "Kurtosis: 2.927697\n"
          ]
        }
      ]
    },
    {
      "cell_type": "code",
      "metadata": {
        "id": "nlTtSH7vVduW",
        "colab": {
          "base_uri": "https://localhost:8080/",
          "height": 81
        },
        "outputId": "faec2a7c-c296-43ee-d634-c98bf8e62c34"
      },
      "source": [
        "#자웅동체(hermaphroditic) 캐릭터(Jabba Desilijic Tiure)는 하나 뿐이므로 확률분포를 구하는것이 불가능!\n",
        "sw[sw['sex'] == 'hermaphroditic'].head()"
      ],
      "execution_count": 25,
      "outputs": [
        {
          "output_type": "execute_result",
          "data": {
            "text/html": [
              "\n",
              "  <div id=\"df-59b56e97-a9d1-405c-b73e-47e68171bc81\">\n",
              "    <div class=\"colab-df-container\">\n",
              "      <div>\n",
              "<style scoped>\n",
              "    .dataframe tbody tr th:only-of-type {\n",
              "        vertical-align: middle;\n",
              "    }\n",
              "\n",
              "    .dataframe tbody tr th {\n",
              "        vertical-align: top;\n",
              "    }\n",
              "\n",
              "    .dataframe thead th {\n",
              "        text-align: right;\n",
              "    }\n",
              "</style>\n",
              "<table border=\"1\" class=\"dataframe\">\n",
              "  <thead>\n",
              "    <tr style=\"text-align: right;\">\n",
              "      <th></th>\n",
              "      <th>name</th>\n",
              "      <th>height</th>\n",
              "      <th>mass</th>\n",
              "      <th>hair_color</th>\n",
              "      <th>skin_color</th>\n",
              "      <th>eye_color</th>\n",
              "      <th>birth_year</th>\n",
              "      <th>sex</th>\n",
              "      <th>gender</th>\n",
              "      <th>homeworld</th>\n",
              "      <th>species</th>\n",
              "    </tr>\n",
              "  </thead>\n",
              "  <tbody>\n",
              "    <tr>\n",
              "      <th>15</th>\n",
              "      <td>Jabba Desilijic Tiure</td>\n",
              "      <td>175.0</td>\n",
              "      <td>1358.0</td>\n",
              "      <td>NaN</td>\n",
              "      <td>green-tan, brown</td>\n",
              "      <td>orange</td>\n",
              "      <td>600.0</td>\n",
              "      <td>hermaphroditic</td>\n",
              "      <td>masculine</td>\n",
              "      <td>Nal Hutta</td>\n",
              "      <td>Hutt</td>\n",
              "    </tr>\n",
              "  </tbody>\n",
              "</table>\n",
              "</div>\n",
              "      <button class=\"colab-df-convert\" onclick=\"convertToInteractive('df-59b56e97-a9d1-405c-b73e-47e68171bc81')\"\n",
              "              title=\"Convert this dataframe to an interactive table.\"\n",
              "              style=\"display:none;\">\n",
              "        \n",
              "  <svg xmlns=\"http://www.w3.org/2000/svg\" height=\"24px\"viewBox=\"0 0 24 24\"\n",
              "       width=\"24px\">\n",
              "    <path d=\"M0 0h24v24H0V0z\" fill=\"none\"/>\n",
              "    <path d=\"M18.56 5.44l.94 2.06.94-2.06 2.06-.94-2.06-.94-.94-2.06-.94 2.06-2.06.94zm-11 1L8.5 8.5l.94-2.06 2.06-.94-2.06-.94L8.5 2.5l-.94 2.06-2.06.94zm10 10l.94 2.06.94-2.06 2.06-.94-2.06-.94-.94-2.06-.94 2.06-2.06.94z\"/><path d=\"M17.41 7.96l-1.37-1.37c-.4-.4-.92-.59-1.43-.59-.52 0-1.04.2-1.43.59L10.3 9.45l-7.72 7.72c-.78.78-.78 2.05 0 2.83L4 21.41c.39.39.9.59 1.41.59.51 0 1.02-.2 1.41-.59l7.78-7.78 2.81-2.81c.8-.78.8-2.07 0-2.86zM5.41 20L4 18.59l7.72-7.72 1.47 1.35L5.41 20z\"/>\n",
              "  </svg>\n",
              "      </button>\n",
              "      \n",
              "  <style>\n",
              "    .colab-df-container {\n",
              "      display:flex;\n",
              "      flex-wrap:wrap;\n",
              "      gap: 12px;\n",
              "    }\n",
              "\n",
              "    .colab-df-convert {\n",
              "      background-color: #E8F0FE;\n",
              "      border: none;\n",
              "      border-radius: 50%;\n",
              "      cursor: pointer;\n",
              "      display: none;\n",
              "      fill: #1967D2;\n",
              "      height: 32px;\n",
              "      padding: 0 0 0 0;\n",
              "      width: 32px;\n",
              "    }\n",
              "\n",
              "    .colab-df-convert:hover {\n",
              "      background-color: #E2EBFA;\n",
              "      box-shadow: 0px 1px 2px rgba(60, 64, 67, 0.3), 0px 1px 3px 1px rgba(60, 64, 67, 0.15);\n",
              "      fill: #174EA6;\n",
              "    }\n",
              "\n",
              "    [theme=dark] .colab-df-convert {\n",
              "      background-color: #3B4455;\n",
              "      fill: #D2E3FC;\n",
              "    }\n",
              "\n",
              "    [theme=dark] .colab-df-convert:hover {\n",
              "      background-color: #434B5C;\n",
              "      box-shadow: 0px 1px 3px 1px rgba(0, 0, 0, 0.15);\n",
              "      filter: drop-shadow(0px 1px 2px rgba(0, 0, 0, 0.3));\n",
              "      fill: #FFFFFF;\n",
              "    }\n",
              "  </style>\n",
              "\n",
              "      <script>\n",
              "        const buttonEl =\n",
              "          document.querySelector('#df-59b56e97-a9d1-405c-b73e-47e68171bc81 button.colab-df-convert');\n",
              "        buttonEl.style.display =\n",
              "          google.colab.kernel.accessAllowed ? 'block' : 'none';\n",
              "\n",
              "        async function convertToInteractive(key) {\n",
              "          const element = document.querySelector('#df-59b56e97-a9d1-405c-b73e-47e68171bc81');\n",
              "          const dataTable =\n",
              "            await google.colab.kernel.invokeFunction('convertToInteractive',\n",
              "                                                     [key], {});\n",
              "          if (!dataTable) return;\n",
              "\n",
              "          const docLinkHtml = 'Like what you see? Visit the ' +\n",
              "            '<a target=\"_blank\" href=https://colab.research.google.com/notebooks/data_table.ipynb>data table notebook</a>'\n",
              "            + ' to learn more about interactive tables.';\n",
              "          element.innerHTML = '';\n",
              "          dataTable['output_type'] = 'display_data';\n",
              "          await google.colab.output.renderOutput(dataTable, element);\n",
              "          const docLink = document.createElement('div');\n",
              "          docLink.innerHTML = docLinkHtml;\n",
              "          element.appendChild(docLink);\n",
              "        }\n",
              "      </script>\n",
              "    </div>\n",
              "  </div>\n",
              "  "
            ],
            "text/plain": [
              "                     name  height    mass hair_color        skin_color  \\\n",
              "15  Jabba Desilijic Tiure   175.0  1358.0        NaN  green-tan, brown   \n",
              "\n",
              "   eye_color  birth_year             sex     gender  homeworld species  \n",
              "15    orange       600.0  hermaphroditic  masculine  Nal Hutta    Hutt  "
            ]
          },
          "metadata": {},
          "execution_count": 25
        }
      ]
    },
    {
      "cell_type": "code",
      "metadata": {
        "id": "UkRl3_9MNgPg",
        "colab": {
          "base_uri": "https://localhost:8080/",
          "height": 343
        },
        "outputId": "3846fad8-01f9-4984-bd92-d68f9b9c526f"
      },
      "source": [
        "#성별에 따른 스타워즈 캐릭터의 신장 분포 그래프\n",
        "#자웅동체 캐릭터(Jabba Desilijic Tiure)는 하나 뿐이므로 확률분포를 구하는것이 불가능!\n",
        "\n",
        "fig, ax = plt.subplots(1, 2, figsize=(16, 5))\n",
        "\n",
        "#sns.distplot\n",
        "sns.distplot(sw[sw['sex'] == 'male']['height'], ax=ax[0])\n",
        "sns.distplot(sw[sw['sex'] == 'female']['height'], ax=ax[0])\n",
        "sns.distplot(sw[sw['sex'] == 'robot']['height'], ax=ax[0])\n",
        "ax[0].legend(['male','female','robot']) #한 그래프에 3개다 그리기\n",
        "\n",
        "#sns.kdeplot #히스토그램 없이 스무스한 확률분포로만 나타냄\n",
        "sns.kdeplot(sw[sw['gender'] == 'masculine']['height'], ax=ax[1])\n",
        "sns.kdeplot(sw[sw['gender'] == 'feminine']['height'], ax=ax[1])\n",
        "ax[1].legend(['masculine','feminine'])\n",
        "\n",
        "plt.show()"
      ],
      "execution_count": 26,
      "outputs": [
        {
          "output_type": "display_data",
          "data": {
            "image/png": "[encoded data removed]",
            "text/plain": [
              "<Figure size 1152x360 with 2 Axes>"
            ]
          },
          "metadata": {
            "needs_background": "light"
          }
        }
      ]
    },
    {
      "cell_type": "markdown",
      "metadata": {
        "id": "8h0lRuwqIPz8"
      },
      "source": [
        "###4-3. 가장 가벼운 캐릭터와 가장 무거운 캐릭터"
      ]
    },
    {
      "cell_type": "code",
      "metadata": {
        "id": "pr039q8SMSqb",
        "colab": {
          "base_uri": "https://localhost:8080/"
        },
        "outputId": "1fccaa3d-5199-4263-810f-0b2b730b4672"
      },
      "source": [
        "#몸무게가 가장 가벼운 캐릭터\n",
        "notz = sw[sw['mass'] != 0]  #몸무게가 0인 것은 제외하자!\n",
        "min(notz['mass'])"
      ],
      "execution_count": 27,
      "outputs": [
        {
          "output_type": "execute_result",
          "data": {
            "text/plain": [
              "15.0"
            ]
          },
          "metadata": {},
          "execution_count": 27
        }
      ]
    },
    {
      "cell_type": "code",
      "metadata": {
        "id": "9yFDO0AKIPQt",
        "colab": {
          "base_uri": "https://localhost:8080/"
        },
        "outputId": "383b0a68-219f-4b89-b2a9-21a892d28c97"
      },
      "source": [
        "#데이터 내용 정리해서 출력하기\n",
        "print(\"{}의 몸무게가 {} (으)로 가장 가볍다 \".format(notz[notz['mass'] == min(notz['mass'])]['name'].values, min(notz['mass'])))\n",
        "print(\"{}의 몸무게가 {} (으)로 가장 무겁다 \".format(notz[notz['mass'] == max(notz['mass'])]['name'].values, max(notz['mass'])))"
      ],
      "execution_count": 29,
      "outputs": [
        {
          "output_type": "stream",
          "name": "stdout",
          "text": [
            "['Ratts Tyerell']의 몸무게가 15.0 (으)로 가장 가볍다 \n",
            "['Jabba Desilijic Tiure']의 몸무게가 1358.0 (으)로 가장 무겁다 \n"
          ]
        }
      ]
    },
    {
      "cell_type": "markdown",
      "metadata": {
        "id": "4yq6VQQ3WUWl"
      },
      "source": [
        "###4-4.스타워즈 캐릭터의 종족 간 몸무게 비교"
      ]
    },
    {
      "cell_type": "code",
      "metadata": {
        "id": "r1EtWq4zS1dL",
        "colab": {
          "base_uri": "https://localhost:8080/",
          "height": 1000
        },
        "outputId": "36fd4396-42d7-4eee-9781-e65a2202e8fb"
      },
      "source": [
        "#Groupby로 스타워즈 종족 별 평균 몸무게를 계산해보자\n",
        "weight = sw[['species', 'mass']].groupby(['species'], as_index=True).mean()\n",
        "weight"
      ],
      "execution_count": 30,
      "outputs": [
        {
          "output_type": "execute_result",
          "data": {
            "text/html": [
              "\n",
              "  <div id=\"df-19ad6e54-d507-4e3d-ab9a-95b45ad9941d\">\n",
              "    <div class=\"colab-df-container\">\n",
              "      <div>\n",
              "<style scoped>\n",
              "    .dataframe tbody tr th:only-of-type {\n",
              "        vertical-align: middle;\n",
              "    }\n",
              "\n",
              "    .dataframe tbody tr th {\n",
              "        vertical-align: top;\n",
              "    }\n",
              "\n",
              "    .dataframe thead th {\n",
              "        text-align: right;\n",
              "    }\n",
              "</style>\n",
              "<table border=\"1\" class=\"dataframe\">\n",
              "  <thead>\n",
              "    <tr style=\"text-align: right;\">\n",
              "      <th></th>\n",
              "      <th>mass</th>\n",
              "    </tr>\n",
              "    <tr>\n",
              "      <th>species</th>\n",
              "      <th></th>\n",
              "    </tr>\n",
              "  </thead>\n",
              "  <tbody>\n",
              "    <tr>\n",
              "      <th>Aleena</th>\n",
              "      <td>15.000000</td>\n",
              "    </tr>\n",
              "    <tr>\n",
              "      <th>Besalisk</th>\n",
              "      <td>102.000000</td>\n",
              "    </tr>\n",
              "    <tr>\n",
              "      <th>Cerean</th>\n",
              "      <td>82.000000</td>\n",
              "    </tr>\n",
              "    <tr>\n",
              "      <th>Chagrian</th>\n",
              "      <td>0.000000</td>\n",
              "    </tr>\n",
              "    <tr>\n",
              "      <th>Clawdite</th>\n",
              "      <td>55.000000</td>\n",
              "    </tr>\n",
              "    <tr>\n",
              "      <th>Droid</th>\n",
              "      <td>46.500000</td>\n",
              "    </tr>\n",
              "    <tr>\n",
              "      <th>Dug</th>\n",
              "      <td>40.000000</td>\n",
              "    </tr>\n",
              "    <tr>\n",
              "      <th>Ewok</th>\n",
              "      <td>20.000000</td>\n",
              "    </tr>\n",
              "    <tr>\n",
              "      <th>Geonosian</th>\n",
              "      <td>80.000000</td>\n",
              "    </tr>\n",
              "    <tr>\n",
              "      <th>Gungan</th>\n",
              "      <td>49.333333</td>\n",
              "    </tr>\n",
              "    <tr>\n",
              "      <th>Human</th>\n",
              "      <td>52.034286</td>\n",
              "    </tr>\n",
              "    <tr>\n",
              "      <th>Hutt</th>\n",
              "      <td>1358.000000</td>\n",
              "    </tr>\n",
              "    <tr>\n",
              "      <th>Iktotchi</th>\n",
              "      <td>0.000000</td>\n",
              "    </tr>\n",
              "    <tr>\n",
              "      <th>Kaleesh</th>\n",
              "      <td>159.000000</td>\n",
              "    </tr>\n",
              "    <tr>\n",
              "      <th>Kaminoan</th>\n",
              "      <td>44.000000</td>\n",
              "    </tr>\n",
              "    <tr>\n",
              "      <th>Kel Dor</th>\n",
              "      <td>80.000000</td>\n",
              "    </tr>\n",
              "    <tr>\n",
              "      <th>Mirialan</th>\n",
              "      <td>53.100000</td>\n",
              "    </tr>\n",
              "    <tr>\n",
              "      <th>Mon Calamari</th>\n",
              "      <td>83.000000</td>\n",
              "    </tr>\n",
              "    <tr>\n",
              "      <th>Muun</th>\n",
              "      <td>0.000000</td>\n",
              "    </tr>\n",
              "    <tr>\n",
              "      <th>Nautolan</th>\n",
              "      <td>87.000000</td>\n",
              "    </tr>\n",
              "    <tr>\n",
              "      <th>Neimodian</th>\n",
              "      <td>90.000000</td>\n",
              "    </tr>\n",
              "    <tr>\n",
              "      <th>Pau'an</th>\n",
              "      <td>80.000000</td>\n",
              "    </tr>\n",
              "    <tr>\n",
              "      <th>Quermian</th>\n",
              "      <td>0.000000</td>\n",
              "    </tr>\n",
              "    <tr>\n",
              "      <th>Rodian</th>\n",
              "      <td>74.000000</td>\n",
              "    </tr>\n",
              "    <tr>\n",
              "      <th>Skakoan</th>\n",
              "      <td>48.000000</td>\n",
              "    </tr>\n",
              "    <tr>\n",
              "      <th>Sullustan</th>\n",
              "      <td>68.000000</td>\n",
              "    </tr>\n",
              "    <tr>\n",
              "      <th>Tholothian</th>\n",
              "      <td>50.000000</td>\n",
              "    </tr>\n",
              "    <tr>\n",
              "      <th>Togruta</th>\n",
              "      <td>57.000000</td>\n",
              "    </tr>\n",
              "    <tr>\n",
              "      <th>Toong</th>\n",
              "      <td>65.000000</td>\n",
              "    </tr>\n",
              "    <tr>\n",
              "      <th>Toydarian</th>\n",
              "      <td>0.000000</td>\n",
              "    </tr>\n",
              "    <tr>\n",
              "      <th>Trandoshan</th>\n",
              "      <td>113.000000</td>\n",
              "    </tr>\n",
              "    <tr>\n",
              "      <th>Twi'lek</th>\n",
              "      <td>27.500000</td>\n",
              "    </tr>\n",
              "    <tr>\n",
              "      <th>Vulptereen</th>\n",
              "      <td>45.000000</td>\n",
              "    </tr>\n",
              "    <tr>\n",
              "      <th>Wookiee</th>\n",
              "      <td>124.000000</td>\n",
              "    </tr>\n",
              "    <tr>\n",
              "      <th>Xexto</th>\n",
              "      <td>0.000000</td>\n",
              "    </tr>\n",
              "    <tr>\n",
              "      <th>Yoda's species</th>\n",
              "      <td>17.000000</td>\n",
              "    </tr>\n",
              "    <tr>\n",
              "      <th>Zabrak</th>\n",
              "      <td>40.000000</td>\n",
              "    </tr>\n",
              "  </tbody>\n",
              "</table>\n",
              "</div>\n",
              "      <button class=\"colab-df-convert\" onclick=\"convertToInteractive('df-19ad6e54-d507-4e3d-ab9a-95b45ad9941d')\"\n",
              "              title=\"Convert this dataframe to an interactive table.\"\n",
              "              style=\"display:none;\">\n",
              "        \n",
              "  <svg xmlns=\"http://www.w3.org/2000/svg\" height=\"24px\"viewBox=\"0 0 24 24\"\n",
              "       width=\"24px\">\n",
              "    <path d=\"M0 0h24v24H0V0z\" fill=\"none\"/>\n",
              "    <path d=\"M18.56 5.44l.94 2.06.94-2.06 2.06-.94-2.06-.94-.94-2.06-.94 2.06-2.06.94zm-11 1L8.5 8.5l.94-2.06 2.06-.94-2.06-.94L8.5 2.5l-.94 2.06-2.06.94zm10 10l.94 2.06.94-2.06 2.06-.94-2.06-.94-.94-2.06-.94 2.06-2.06.94z\"/><path d=\"M17.41 7.96l-1.37-1.37c-.4-.4-.92-.59-1.43-.59-.52 0-1.04.2-1.43.59L10.3 9.45l-7.72 7.72c-.78.78-.78 2.05 0 2.83L4 21.41c.39.39.9.59 1.41.59.51 0 1.02-.2 1.41-.59l7.78-7.78 2.81-2.81c.8-.78.8-2.07 0-2.86zM5.41 20L4 18.59l7.72-7.72 1.47 1.35L5.41 20z\"/>\n",
              "  </svg>\n",
              "      </button>\n",
              "      \n",
              "  <style>\n",
              "    .colab-df-container {\n",
              "      display:flex;\n",
              "      flex-wrap:wrap;\n",
              "      gap: 12px;\n",
              "    }\n",
              "\n",
              "    .colab-df-convert {\n",
              "      background-color: #E8F0FE;\n",
              "      border: none;\n",
              "      border-radius: 50%;\n",
              "      cursor: pointer;\n",
              "      display: none;\n",
              "      fill: #1967D2;\n",
              "      height: 32px;\n",
              "      padding: 0 0 0 0;\n",
              "      width: 32px;\n",
              "    }\n",
              "\n",
              "    .colab-df-convert:hover {\n",
              "      background-color: #E2EBFA;\n",
              "      box-shadow: 0px 1px 2px rgba(60, 64, 67, 0.3), 0px 1px 3px 1px rgba(60, 64, 67, 0.15);\n",
              "      fill: #174EA6;\n",
              "    }\n",
              "\n",
              "    [theme=dark] .colab-df-convert {\n",
              "      background-color: #3B4455;\n",
              "      fill: #D2E3FC;\n",
              "    }\n",
              "\n",
              "    [theme=dark] .colab-df-convert:hover {\n",
              "      background-color: #434B5C;\n",
              "      box-shadow: 0px 1px 3px 1px rgba(0, 0, 0, 0.15);\n",
              "      filter: drop-shadow(0px 1px 2px rgba(0, 0, 0, 0.3));\n",
              "      fill: #FFFFFF;\n",
              "    }\n",
              "  </style>\n",
              "\n",
              "      <script>\n",
              "        const buttonEl =\n",
              "          document.querySelector('#df-19ad6e54-d507-4e3d-ab9a-95b45ad9941d button.colab-df-convert');\n",
              "        buttonEl.style.display =\n",
              "          google.colab.kernel.accessAllowed ? 'block' : 'none';\n",
              "\n",
              "        async function convertToInteractive(key) {\n",
              "          const element = document.querySelector('#df-19ad6e54-d507-4e3d-ab9a-95b45ad9941d');\n",
              "          const dataTable =\n",
              "            await google.colab.kernel.invokeFunction('convertToInteractive',\n",
              "                                                     [key], {});\n",
              "          if (!dataTable) return;\n",
              "\n",
              "          const docLinkHtml = 'Like what you see? Visit the ' +\n",
              "            '<a target=\"_blank\" href=https://colab.research.google.com/notebooks/data_table.ipynb>data table notebook</a>'\n",
              "            + ' to learn more about interactive tables.';\n",
              "          element.innerHTML = '';\n",
              "          dataTable['output_type'] = 'display_data';\n",
              "          await google.colab.output.renderOutput(dataTable, element);\n",
              "          const docLink = document.createElement('div');\n",
              "          docLink.innerHTML = docLinkHtml;\n",
              "          element.appendChild(docLink);\n",
              "        }\n",
              "      </script>\n",
              "    </div>\n",
              "  </div>\n",
              "  "
            ],
            "text/plain": [
              "                       mass\n",
              "species                    \n",
              "Aleena            15.000000\n",
              "Besalisk         102.000000\n",
              "Cerean            82.000000\n",
              "Chagrian           0.000000\n",
              "Clawdite          55.000000\n",
              "Droid             46.500000\n",
              "Dug               40.000000\n",
              "Ewok              20.000000\n",
              "Geonosian         80.000000\n",
              "Gungan            49.333333\n",
              "Human             52.034286\n",
              "Hutt            1358.000000\n",
              "Iktotchi           0.000000\n",
              "Kaleesh          159.000000\n",
              "Kaminoan          44.000000\n",
              "Kel Dor           80.000000\n",
              "Mirialan          53.100000\n",
              "Mon Calamari      83.000000\n",
              "Muun               0.000000\n",
              "Nautolan          87.000000\n",
              "Neimodian         90.000000\n",
              "Pau'an            80.000000\n",
              "Quermian           0.000000\n",
              "Rodian            74.000000\n",
              "Skakoan           48.000000\n",
              "Sullustan         68.000000\n",
              "Tholothian        50.000000\n",
              "Togruta           57.000000\n",
              "Toong             65.000000\n",
              "Toydarian          0.000000\n",
              "Trandoshan       113.000000\n",
              "Twi'lek           27.500000\n",
              "Vulptereen        45.000000\n",
              "Wookiee          124.000000\n",
              "Xexto              0.000000\n",
              "Yoda's species    17.000000\n",
              "Zabrak            40.000000"
            ]
          },
          "metadata": {},
          "execution_count": 30
        }
      ]
    },
    {
      "cell_type": "code",
      "metadata": {
        "id": "zqrwt6C_eJsu",
        "colab": {
          "base_uri": "https://localhost:8080/",
          "height": 339
        },
        "outputId": "2304c12e-b0ba-4c83-8455-011bbad7b756"
      },
      "source": [
        "#몸무게 많은 순으로 상위 10개 종족을 그래프로 그려보자\n",
        "weight['mass'].sort_values(ascending=False).head(10).plot.bar(color='red')\n",
        "\n",
        "plt.xticks(rotation=45)\n",
        "plt.show()"
      ],
      "execution_count": 33,
      "outputs": [
        {
          "output_type": "display_data",
          "data": {
            "image/png": "[encoded data removed]",
            "text/plain": [
              "<Figure size 432x288 with 1 Axes>"
            ]
          },
          "metadata": {
            "needs_background": "light"
          }
        }
      ]
    },
    {
      "cell_type": "code",
      "metadata": {
        "id": "0b0HQVDbKp3t",
        "colab": {
          "base_uri": "https://localhost:8080/",
          "height": 506
        },
        "outputId": "4ad269ee-3f70-432d-d22e-7f4b62b53cc5"
      },
      "source": [
        "#스타워즈 종족별 몸무게 많은 순으로 그래프를 그려보자\n",
        "f, ax = plt.subplots(1, 1, figsize=(10, 8))\n",
        "\n",
        "colors = sns.color_palette('hls',len(weight['mass'])) #hls라는 컬러팔레트에서 어떤 컬러를 입혀줄지 결정\n",
        "\n",
        "g = weight['mass'].sort_values(ascending=False).plot.bar(color = colors)\n",
        "g.set_xticklabels(g.get_xticklabels(),rotation=0) #라벨이 겹쳐져서 보이니까 90도 돌려준다\n",
        "\n",
        "plt.show()"
      ],
      "execution_count": 36,
      "outputs": [
        {
          "output_type": "display_data",
          "data": {
            "image/png": "[encoded data removed]",
            "text/plain": [
              "<Figure size 720x576 with 1 Axes>"
            ]
          },
          "metadata": {
            "needs_background": "light"
          }
        }
      ]
    },
    {
      "cell_type": "markdown",
      "metadata": {
        "id": "rXS5EiJAqIc9"
      },
      "source": [
        "###4-5. 스타워즈 캐릭터의 무게-키 상관관계"
      ]
    },
    {
      "cell_type": "code",
      "metadata": {
        "id": "hK2jQwyhltL1",
        "colab": {
          "base_uri": "https://localhost:8080/"
        },
        "outputId": "81e8c61f-ee7c-4fe1-d14d-177a932d97cf"
      },
      "source": [
        "#Hutt은 몸무게가 너무 outlier 하므로 out시키자!\n",
        "#몸무게가 0인 것도 제외시키자!\n",
        "out1 = sw['species'].isin(['Hutt'])\n",
        "out2 = sw['mass'].isin(['0'])\n",
        "sw[~out1][~out2].shape"
      ],
      "execution_count": 37,
      "outputs": [
        {
          "output_type": "stream",
          "name": "stderr",
          "text": [
            "/usr/local/lib/python3.7/dist-packages/ipykernel_launcher.py:5: UserWarning: Boolean Series key will be reindexed to match DataFrame index.\n",
            "  \"\"\"\n"
          ]
        },
        {
          "output_type": "execute_result",
          "data": {
            "text/plain": [
              "(86, 11)"
            ]
          },
          "metadata": {},
          "execution_count": 37
        }
      ]
    },
    {
      "cell_type": "code",
      "metadata": {
        "id": "b0K_dJowkHM9",
        "colab": {
          "base_uri": "https://localhost:8080/",
          "height": 406
        },
        "outputId": "1c9ba8d2-6c48-43c3-c7c4-79ac34386fec"
      },
      "source": [
        "#두 데이터 사이의 상관관계를 나타내주는 lmplot\n",
        "#replot은 점만 나타난다\n",
        "\n",
        "sns.lmplot(data=sw[~out1][~out2], x='height', y='mass',hue='gender') #hue=gender로 나타내서도 살펴보기\n",
        "sns.set_style(style='darkgrid') #어두운 그리드로 배경 지정\n",
        "\n",
        "plt.show()"
      ],
      "execution_count": 39,
      "outputs": [
        {
          "output_type": "stream",
          "name": "stderr",
          "text": [
            "/usr/local/lib/python3.7/dist-packages/ipykernel_launcher.py:4: UserWarning: Boolean Series key will be reindexed to match DataFrame index.\n",
            "  after removing the cwd from sys.path.\n"
          ]
        },
        {
          "output_type": "display_data",
          "data": {
            "image/png": "[encoded data removed]",
            "text/plain": [
              "<Figure size 455.975x360 with 1 Axes>"
            ]
          },
          "metadata": {}
        }
      ]
    },
    {
      "cell_type": "markdown",
      "metadata": {
        "id": "js2AqHOMhlfv"
      },
      "source": [
        "##5.Review"
      ]
    },
    {
      "cell_type": "markdown",
      "metadata": {
        "id": "5gEYjZugh3cn"
      },
      "source": [
        "* 스타워즈 데이터는:  \n",
        "총 데이터 개수:  957  \n",
        "총 결측치 수: 105 = 전체 데이터의 10.97%   \n",
        "스타워즈에 등장하는 등장인물 수:  87  \n",
        "스타워즈에 등장하는 종족 수:  37  \n",
        "\n",
        "* 스타워즈 캐릭터의 성별 비율은?  \n",
        "  : 남성/남성 gender를 가진 캐릭터가 80% 가량을 차지한다.\n",
        "* 성별에 따른 캐릭터 신장의 분포는?  \n",
        "  : 남성 캐릭터의 키가 대체로 여성보다 크며, 로봇은 그보다 키가 작다.\n",
        "* 가장 무거운 캐릭터와 가장 가벼운 캐릭터는?  \n",
        "  : ['Ratts Tyerell']의 몸무게가 15.0 (으)로 가장 가볍다   \n",
        "    ['Jabba Desilijic Tiure']의 몸무게가 1358.0 (으)로 가장 가볍다 \n",
        "* 스타워즈 캐릭터의 키와 몸무게는 상관관계를 가질까?  \n",
        "  : 그렇다. 인간과 다른 행성에 사는 종족이지만, 키와 몸무게는 대체로 비례 관계를 보인다."
      ]
    }
  ]
}